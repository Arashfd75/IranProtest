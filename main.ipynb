{
 "cells": [
  {
   "attachments": {},
   "cell_type": "markdown",
   "metadata": {},
   "source": [
    "# Initializations"
   ]
  },
  {
   "cell_type": "code",
   "execution_count": 1,
   "metadata": {},
   "outputs": [],
   "source": [
    "import os\n",
    "import tweepy\n",
    "from dotenv import load_dotenv\n",
    "# import KEYS\n",
    "import datetime\n",
    "import pandas as pd\n",
    "import dash\n",
    "import dash_bootstrap_components as dbc\n",
    "import plotly.express as px\n",
    "import pandas as pd\n",
    "import os\n",
    "import requests\n",
    "from dash import dcc\n",
    "from dash import html\n",
    "from plotly.subplots import make_subplots"
   ]
  },
  {
   "cell_type": "code",
   "execution_count": 2,
   "metadata": {},
   "outputs": [],
   "source": [
    "#Should be loaded\n",
    "API_KEY=\"\"\n",
    "API_SECRET_KEY=\"\"\n",
    "ACCESS_TOKEN = \"\"\n",
    "ACCESS_SECRET=\"\"\n",
    "BEARER_TOKEN=\"\"\n"
   ]
  },
  {
   "cell_type": "code",
   "execution_count": null,
   "metadata": {},
   "outputs": [],
   "source": [
    "client = tweepy.Client( bearer_token=BEARER_TOKEN,\n",
    "                        consumer_key=API_KEY,\n",
    "                        consumer_secret=API_SECRET_KEY,\n",
    "                        access_token=ACCESS_TOKEN,\n",
    "                        access_token_secret=ACCESS_SECRET)\n"
   ]
  },
  {
   "attachments": {},
   "cell_type": "markdown",
   "metadata": {},
   "source": [
    "# Functions"
   ]
  },
  {
   "cell_type": "code",
   "execution_count": 11,
   "metadata": {},
   "outputs": [],
   "source": [
    "\n",
    "def count_query(query, date):\n",
    "    TimeNow = \"2022-12-28T23:59:59.000Z\"\n",
    "    result = []\n",
    "    flag = True\n",
    "    while(True):\n",
    "        if flag == True:\n",
    "            MahsaAmini_fa_count_0 = client.get_all_tweets_count(query, end_time=f\"{TimeNow}\", granularity='day')\n",
    "            result += MahsaAmini_fa_count_0.data\n",
    "            TimeNow = MahsaAmini_fa_count_0.data[0]['start']\n",
    "        if pd.to_datetime(MahsaAmini_fa_count_0.data[0]['start']) - pd.to_datetime(date) < datetime.timedelta(31):\n",
    "            try:\n",
    "                MahsaAmini_fa_count_0 = client.get_all_tweets_count(query, end_time=f\"{TimeNow}\",start_time = date, granularity='day')\n",
    "            except:\n",
    "                break\n",
    "            result += MahsaAmini_fa_count_0.data\n",
    "            TimeNow = MahsaAmini_fa_count_0.data[0]['start']\n",
    "            flag = False\n",
    "        if pd.to_datetime(MahsaAmini_fa_count_0.data[0]['start']) < pd.to_datetime(date):\n",
    "            break\n",
    "    return result\n",
    "\n",
    "\n",
    "\n",
    "def df_maker(twitter_list):\n",
    "    df = pd.DataFrame(twitter_list)\n",
    "    df['start'] = pd.to_datetime(df['start'], format = \"%Y-%m-%dT%H:%M:%S%z\").dt.strftime('%Y-%m-%d')\n",
    "    df['end'] = pd.to_datetime(df['end'], format = \"%Y-%m-%dT%H:%M:%S%z\").dt.strftime('%Y-%m-%d')\n",
    "    df[['start','end']] = df[['start','end']].apply(pd.to_datetime)\n",
    "    df.sort_values(by=['start'],inplace=True)\n",
    "    df = df.reset_index(drop=True)\n",
    "    return df\n",
    "\n",
    "\n",
    "\n",
    "\n"
   ]
  },
  {
   "cell_type": "code",
   "execution_count": 8,
   "metadata": {},
   "outputs": [],
   "source": [
    "\n",
    "def annotate(fig, df, annot_date, annot_text,yshift=0,xshift=0,fontsize=14,arrow=True):\n",
    "    fig.add_annotation(x=pd.to_datetime(annot_date), y=df[\"MahsaAmini\"].loc[df[\"Date\"] == pd.to_datetime(annot_date)].values[0]+plotMarkerConstant,\n",
    "        text=annot_text,\n",
    "        showarrow=arrow,\n",
    "        font = {\n",
    "            'family':\"B nazanin\",\n",
    "            'size' : fontsize\n",
    "        },\n",
    "        arrowhead=2,\n",
    "        xshift=xshift,\n",
    "        \n",
    "        yshift=yshift,)\n",
    "\n",
    "\n",
    "\n",
    "# fig.add_annotation(x=pd.to_datetime(\"2022-10-15\"), y=df[\"MahsaAmini\"].loc[df[\"Date\"] == pd.to_datetime(\"20221015\")].values[0]+plotMarkerConstant,\n",
    "#     text=,\n",
    "#     showarrow=True,\n",
    "#     font = {\n",
    "#         'family':\"B nazanin\",\n",
    "#         'size' : 12\n",
    "        \n",
    "#     },\n",
    "#     arrowhead=2)"
   ]
  },
  {
   "attachments": {},
   "cell_type": "markdown",
   "metadata": {},
   "source": [
    "# Hashtags"
   ]
  },
  {
   "cell_type": "markdown",
   "metadata": {},
   "source": [
    "## MahsaAmini Hashtag"
   ]
  },
  {
   "cell_type": "code",
   "execution_count": 12,
   "metadata": {},
   "outputs": [
    {
     "data": {
      "text/html": [
       "<div>\n",
       "<style scoped>\n",
       "    .dataframe tbody tr th:only-of-type {\n",
       "        vertical-align: middle;\n",
       "    }\n",
       "\n",
       "    .dataframe tbody tr th {\n",
       "        vertical-align: top;\n",
       "    }\n",
       "\n",
       "    .dataframe thead th {\n",
       "        text-align: right;\n",
       "    }\n",
       "</style>\n",
       "<table border=\"1\" class=\"dataframe\">\n",
       "  <thead>\n",
       "    <tr style=\"text-align: right;\">\n",
       "      <th></th>\n",
       "      <th>end</th>\n",
       "      <th>start</th>\n",
       "      <th>tweet_count</th>\n",
       "    </tr>\n",
       "  </thead>\n",
       "  <tbody>\n",
       "    <tr>\n",
       "      <th>0</th>\n",
       "      <td>2022-09-14</td>\n",
       "      <td>2022-09-13</td>\n",
       "      <td>0</td>\n",
       "    </tr>\n",
       "    <tr>\n",
       "      <th>1</th>\n",
       "      <td>2022-09-15</td>\n",
       "      <td>2022-09-14</td>\n",
       "      <td>6228</td>\n",
       "    </tr>\n",
       "    <tr>\n",
       "      <th>2</th>\n",
       "      <td>2022-09-16</td>\n",
       "      <td>2022-09-15</td>\n",
       "      <td>133995</td>\n",
       "    </tr>\n",
       "    <tr>\n",
       "      <th>3</th>\n",
       "      <td>2022-09-17</td>\n",
       "      <td>2022-09-16</td>\n",
       "      <td>489179</td>\n",
       "    </tr>\n",
       "    <tr>\n",
       "      <th>4</th>\n",
       "      <td>2022-09-18</td>\n",
       "      <td>2022-09-17</td>\n",
       "      <td>1108859</td>\n",
       "    </tr>\n",
       "    <tr>\n",
       "      <th>...</th>\n",
       "      <td>...</td>\n",
       "      <td>...</td>\n",
       "      <td>...</td>\n",
       "    </tr>\n",
       "    <tr>\n",
       "      <th>102</th>\n",
       "      <td>2022-12-25</td>\n",
       "      <td>2022-12-24</td>\n",
       "      <td>1246068</td>\n",
       "    </tr>\n",
       "    <tr>\n",
       "      <th>103</th>\n",
       "      <td>2022-12-26</td>\n",
       "      <td>2022-12-25</td>\n",
       "      <td>1031228</td>\n",
       "    </tr>\n",
       "    <tr>\n",
       "      <th>104</th>\n",
       "      <td>2022-12-27</td>\n",
       "      <td>2022-12-26</td>\n",
       "      <td>969262</td>\n",
       "    </tr>\n",
       "    <tr>\n",
       "      <th>105</th>\n",
       "      <td>2022-12-28</td>\n",
       "      <td>2022-12-27</td>\n",
       "      <td>988357</td>\n",
       "    </tr>\n",
       "    <tr>\n",
       "      <th>106</th>\n",
       "      <td>2022-12-28</td>\n",
       "      <td>2022-12-28</td>\n",
       "      <td>1054566</td>\n",
       "    </tr>\n",
       "  </tbody>\n",
       "</table>\n",
       "<p>107 rows × 3 columns</p>\n",
       "</div>"
      ],
      "text/plain": [
       "           end      start  tweet_count\n",
       "0   2022-09-14 2022-09-13            0\n",
       "1   2022-09-15 2022-09-14         6228\n",
       "2   2022-09-16 2022-09-15       133995\n",
       "3   2022-09-17 2022-09-16       489179\n",
       "4   2022-09-18 2022-09-17      1108859\n",
       "..         ...        ...          ...\n",
       "102 2022-12-25 2022-12-24      1246068\n",
       "103 2022-12-26 2022-12-25      1031228\n",
       "104 2022-12-27 2022-12-26       969262\n",
       "105 2022-12-28 2022-12-27       988357\n",
       "106 2022-12-28 2022-12-28      1054566\n",
       "\n",
       "[107 rows x 3 columns]"
      ]
     },
     "execution_count": 12,
     "metadata": {},
     "output_type": "execute_result"
    }
   ],
   "source": [
    "starting_date = \"2022-09-13T00:00:00.000Z\"\n",
    "result = count_query(\"#مهسا_امینی\",starting_date)\n",
    "df = df_maker(result)\n",
    "df"
   ]
  },
  {
   "cell_type": "markdown",
   "metadata": {},
   "source": [
    "## Strikes Hashtag"
   ]
  },
  {
   "cell_type": "code",
   "execution_count": 13,
   "metadata": {},
   "outputs": [
    {
     "data": {
      "text/html": [
       "<div>\n",
       "<style scoped>\n",
       "    .dataframe tbody tr th:only-of-type {\n",
       "        vertical-align: middle;\n",
       "    }\n",
       "\n",
       "    .dataframe tbody tr th {\n",
       "        vertical-align: top;\n",
       "    }\n",
       "\n",
       "    .dataframe thead th {\n",
       "        text-align: right;\n",
       "    }\n",
       "</style>\n",
       "<table border=\"1\" class=\"dataframe\">\n",
       "  <thead>\n",
       "    <tr style=\"text-align: right;\">\n",
       "      <th></th>\n",
       "      <th>end</th>\n",
       "      <th>start</th>\n",
       "      <th>tweet_count</th>\n",
       "    </tr>\n",
       "  </thead>\n",
       "  <tbody>\n",
       "    <tr>\n",
       "      <th>0</th>\n",
       "      <td>2022-09-14</td>\n",
       "      <td>2022-09-13</td>\n",
       "      <td>108</td>\n",
       "    </tr>\n",
       "    <tr>\n",
       "      <th>1</th>\n",
       "      <td>2022-09-15</td>\n",
       "      <td>2022-09-14</td>\n",
       "      <td>61</td>\n",
       "    </tr>\n",
       "    <tr>\n",
       "      <th>2</th>\n",
       "      <td>2022-09-16</td>\n",
       "      <td>2022-09-15</td>\n",
       "      <td>91</td>\n",
       "    </tr>\n",
       "    <tr>\n",
       "      <th>3</th>\n",
       "      <td>2022-09-17</td>\n",
       "      <td>2022-09-16</td>\n",
       "      <td>373</td>\n",
       "    </tr>\n",
       "    <tr>\n",
       "      <th>4</th>\n",
       "      <td>2022-09-18</td>\n",
       "      <td>2022-09-17</td>\n",
       "      <td>2501</td>\n",
       "    </tr>\n",
       "    <tr>\n",
       "      <th>...</th>\n",
       "      <td>...</td>\n",
       "      <td>...</td>\n",
       "      <td>...</td>\n",
       "    </tr>\n",
       "    <tr>\n",
       "      <th>102</th>\n",
       "      <td>2022-12-25</td>\n",
       "      <td>2022-12-24</td>\n",
       "      <td>193836</td>\n",
       "    </tr>\n",
       "    <tr>\n",
       "      <th>103</th>\n",
       "      <td>2022-12-26</td>\n",
       "      <td>2022-12-25</td>\n",
       "      <td>142954</td>\n",
       "    </tr>\n",
       "    <tr>\n",
       "      <th>104</th>\n",
       "      <td>2022-12-27</td>\n",
       "      <td>2022-12-26</td>\n",
       "      <td>143484</td>\n",
       "    </tr>\n",
       "    <tr>\n",
       "      <th>105</th>\n",
       "      <td>2022-12-28</td>\n",
       "      <td>2022-12-27</td>\n",
       "      <td>107287</td>\n",
       "    </tr>\n",
       "    <tr>\n",
       "      <th>106</th>\n",
       "      <td>2022-12-28</td>\n",
       "      <td>2022-12-28</td>\n",
       "      <td>134840</td>\n",
       "    </tr>\n",
       "  </tbody>\n",
       "</table>\n",
       "<p>107 rows × 3 columns</p>\n",
       "</div>"
      ],
      "text/plain": [
       "           end      start  tweet_count\n",
       "0   2022-09-14 2022-09-13          108\n",
       "1   2022-09-15 2022-09-14           61\n",
       "2   2022-09-16 2022-09-15           91\n",
       "3   2022-09-17 2022-09-16          373\n",
       "4   2022-09-18 2022-09-17         2501\n",
       "..         ...        ...          ...\n",
       "102 2022-12-25 2022-12-24       193836\n",
       "103 2022-12-26 2022-12-25       142954\n",
       "104 2022-12-27 2022-12-26       143484\n",
       "105 2022-12-28 2022-12-27       107287\n",
       "106 2022-12-28 2022-12-28       134840\n",
       "\n",
       "[107 rows x 3 columns]"
      ]
     },
     "execution_count": 13,
     "metadata": {},
     "output_type": "execute_result"
    }
   ],
   "source": [
    "# query = \"-#مهسا_امینی lang:fa -is:reply\"\n",
    "query = \"#اعتصابات_سراسری\"\n",
    "result = count_query(query, starting_date)\n",
    "df_strikes = df_maker(result)\n",
    "df_strikes\n"
   ]
  },
  {
   "cell_type": "code",
   "execution_count": 14,
   "metadata": {},
   "outputs": [
    {
     "data": {
      "text/html": [
       "<div>\n",
       "<style scoped>\n",
       "    .dataframe tbody tr th:only-of-type {\n",
       "        vertical-align: middle;\n",
       "    }\n",
       "\n",
       "    .dataframe tbody tr th {\n",
       "        vertical-align: top;\n",
       "    }\n",
       "\n",
       "    .dataframe thead th {\n",
       "        text-align: right;\n",
       "    }\n",
       "</style>\n",
       "<table border=\"1\" class=\"dataframe\">\n",
       "  <thead>\n",
       "    <tr style=\"text-align: right;\">\n",
       "      <th></th>\n",
       "      <th>end</th>\n",
       "      <th>Date</th>\n",
       "      <th>MahsaAmini</th>\n",
       "      <th>Strikes</th>\n",
       "    </tr>\n",
       "  </thead>\n",
       "  <tbody>\n",
       "    <tr>\n",
       "      <th>0</th>\n",
       "      <td>2022-09-14</td>\n",
       "      <td>2022-09-13</td>\n",
       "      <td>0</td>\n",
       "      <td>108</td>\n",
       "    </tr>\n",
       "    <tr>\n",
       "      <th>1</th>\n",
       "      <td>2022-09-15</td>\n",
       "      <td>2022-09-14</td>\n",
       "      <td>6228</td>\n",
       "      <td>61</td>\n",
       "    </tr>\n",
       "    <tr>\n",
       "      <th>2</th>\n",
       "      <td>2022-09-16</td>\n",
       "      <td>2022-09-15</td>\n",
       "      <td>133995</td>\n",
       "      <td>91</td>\n",
       "    </tr>\n",
       "    <tr>\n",
       "      <th>3</th>\n",
       "      <td>2022-09-17</td>\n",
       "      <td>2022-09-16</td>\n",
       "      <td>489179</td>\n",
       "      <td>373</td>\n",
       "    </tr>\n",
       "    <tr>\n",
       "      <th>4</th>\n",
       "      <td>2022-09-18</td>\n",
       "      <td>2022-09-17</td>\n",
       "      <td>1108859</td>\n",
       "      <td>2501</td>\n",
       "    </tr>\n",
       "    <tr>\n",
       "      <th>...</th>\n",
       "      <td>...</td>\n",
       "      <td>...</td>\n",
       "      <td>...</td>\n",
       "      <td>...</td>\n",
       "    </tr>\n",
       "    <tr>\n",
       "      <th>102</th>\n",
       "      <td>2022-12-25</td>\n",
       "      <td>2022-12-24</td>\n",
       "      <td>1246068</td>\n",
       "      <td>193836</td>\n",
       "    </tr>\n",
       "    <tr>\n",
       "      <th>103</th>\n",
       "      <td>2022-12-26</td>\n",
       "      <td>2022-12-25</td>\n",
       "      <td>1031228</td>\n",
       "      <td>142954</td>\n",
       "    </tr>\n",
       "    <tr>\n",
       "      <th>104</th>\n",
       "      <td>2022-12-27</td>\n",
       "      <td>2022-12-26</td>\n",
       "      <td>969262</td>\n",
       "      <td>143484</td>\n",
       "    </tr>\n",
       "    <tr>\n",
       "      <th>105</th>\n",
       "      <td>2022-12-28</td>\n",
       "      <td>2022-12-27</td>\n",
       "      <td>988357</td>\n",
       "      <td>107287</td>\n",
       "    </tr>\n",
       "    <tr>\n",
       "      <th>106</th>\n",
       "      <td>2022-12-28</td>\n",
       "      <td>2022-12-28</td>\n",
       "      <td>1054566</td>\n",
       "      <td>134840</td>\n",
       "    </tr>\n",
       "  </tbody>\n",
       "</table>\n",
       "<p>107 rows × 4 columns</p>\n",
       "</div>"
      ],
      "text/plain": [
       "           end       Date  MahsaAmini  Strikes\n",
       "0   2022-09-14 2022-09-13           0      108\n",
       "1   2022-09-15 2022-09-14        6228       61\n",
       "2   2022-09-16 2022-09-15      133995       91\n",
       "3   2022-09-17 2022-09-16      489179      373\n",
       "4   2022-09-18 2022-09-17     1108859     2501\n",
       "..         ...        ...         ...      ...\n",
       "102 2022-12-25 2022-12-24     1246068   193836\n",
       "103 2022-12-26 2022-12-25     1031228   142954\n",
       "104 2022-12-27 2022-12-26      969262   143484\n",
       "105 2022-12-28 2022-12-27      988357   107287\n",
       "106 2022-12-28 2022-12-28     1054566   134840\n",
       "\n",
       "[107 rows x 4 columns]"
      ]
     },
     "execution_count": 14,
     "metadata": {},
     "output_type": "execute_result"
    }
   ],
   "source": [
    "df['Strikes'] = df_strikes['tweet_count']\n",
    "df.rename(columns = {'tweet_count':'MahsaAmini'}, inplace = True)\n",
    "df.rename(columns = {'start':'Date'}, inplace = True)\n",
    "df"
   ]
  },
  {
   "attachments": {},
   "cell_type": "markdown",
   "metadata": {},
   "source": [
    "## Non-Mahsa"
   ]
  },
  {
   "cell_type": "code",
   "execution_count": null,
   "metadata": {},
   "outputs": [],
   "source": [
    "query = \"-#مهسا_امینی lang:fa -is:reply -has:hashtags\"\n",
    "result = count_query(query, starting_date)\n",
    "df_nonMahsa = df_maker(result)\n",
    "df_nonMahsa"
   ]
  },
  {
   "cell_type": "code",
   "execution_count": 27,
   "metadata": {},
   "outputs": [],
   "source": [
    "df['NonMahsaAmini'] = df_nonMahsa['tweet_count']"
   ]
  },
  {
   "attachments": {},
   "cell_type": "markdown",
   "metadata": {},
   "source": [
    "## Matplotlib"
   ]
  },
  {
   "cell_type": "code",
   "execution_count": null,
   "metadata": {},
   "outputs": [],
   "source": [
    "import matplotlib.pyplot as plt\n",
    "from matplotlib.dates import DateFormatter\n",
    "fig, ax = plt.subplots(figsize=(20, 8))\n",
    "\n",
    "# Add x-axis and y-axis\n",
    "ax.plot(df['start'],\n",
    "        df['tweet_count'],\n",
    "        color='purple')\n",
    "ax.plot(df_strikes['start'],\n",
    "        df_strikes['tweet_count'],\n",
    "        color='red')\n",
    "ax.grid()\n",
    "plt.setp(ax.get_xticklabels(), rotation=90)\n",
    "ax.set(xlabel=\"Date\",\n",
    "       ylabel=\"Number of Tweets\",\n",
    "       title=\"Distrbution of #MahsaAmini (In persian) since the start of Iran revolution\")\n",
    "\n",
    "plt.axvline(x = pd.to_datetime(\"20221208\"), color = 'g', label = \"MahsaAmini arrested\")\n",
    "\n"
   ]
  },
  {
   "attachments": {},
   "cell_type": "markdown",
   "metadata": {},
   "source": [
    "# Visualizing using Plotly"
   ]
  },
  {
   "cell_type": "code",
   "execution_count": 21,
   "metadata": {},
   "outputs": [
    {
     "data": {
      "application/vnd.plotly.v1+json": {
       "config": {
        "plotlyServerURL": "https://plot.ly"
       },
       "data": [
        {
         "hovertemplate": "variable=MahsaAmini<br>Date=%{x}<br>value=%{y}<extra></extra>",
         "legendgroup": "MahsaAmini",
         "line": {
          "color": "#636efa",
          "dash": "solid"
         },
         "marker": {
          "symbol": "circle"
         },
         "mode": "lines",
         "name": "MahsaAmini",
         "orientation": "v",
         "showlegend": true,
         "type": "scatter",
         "x": [
          "2022-09-13T00:00:00",
          "2022-09-14T00:00:00",
          "2022-09-15T00:00:00",
          "2022-09-16T00:00:00",
          "2022-09-17T00:00:00",
          "2022-09-18T00:00:00",
          "2022-09-19T00:00:00",
          "2022-09-20T00:00:00",
          "2022-09-21T00:00:00",
          "2022-09-22T00:00:00",
          "2022-09-23T00:00:00",
          "2022-09-24T00:00:00",
          "2022-09-25T00:00:00",
          "2022-09-26T00:00:00",
          "2022-09-27T00:00:00",
          "2022-09-28T00:00:00",
          "2022-09-29T00:00:00",
          "2022-09-30T00:00:00",
          "2022-10-01T00:00:00",
          "2022-10-02T00:00:00",
          "2022-10-03T00:00:00",
          "2022-10-04T00:00:00",
          "2022-10-05T00:00:00",
          "2022-10-06T00:00:00",
          "2022-10-07T00:00:00",
          "2022-10-08T00:00:00",
          "2022-10-09T00:00:00",
          "2022-10-10T00:00:00",
          "2022-10-11T00:00:00",
          "2022-10-12T00:00:00",
          "2022-10-13T00:00:00",
          "2022-10-14T00:00:00",
          "2022-10-15T00:00:00",
          "2022-10-16T00:00:00",
          "2022-10-17T00:00:00",
          "2022-10-18T00:00:00",
          "2022-10-19T00:00:00",
          "2022-10-20T00:00:00",
          "2022-10-21T00:00:00",
          "2022-10-22T00:00:00",
          "2022-10-23T00:00:00",
          "2022-10-24T00:00:00",
          "2022-10-25T00:00:00",
          "2022-10-26T00:00:00",
          "2022-10-27T00:00:00",
          "2022-10-28T00:00:00",
          "2022-10-29T00:00:00",
          "2022-10-30T00:00:00",
          "2022-10-31T00:00:00",
          "2022-11-01T00:00:00",
          "2022-11-02T00:00:00",
          "2022-11-03T00:00:00",
          "2022-11-04T00:00:00",
          "2022-11-05T00:00:00",
          "2022-11-06T00:00:00",
          "2022-11-07T00:00:00",
          "2022-11-08T00:00:00",
          "2022-11-09T00:00:00",
          "2022-11-10T00:00:00",
          "2022-11-11T00:00:00",
          "2022-11-12T00:00:00",
          "2022-11-13T00:00:00",
          "2022-11-14T00:00:00",
          "2022-11-15T00:00:00",
          "2022-11-16T00:00:00",
          "2022-11-17T00:00:00",
          "2022-11-18T00:00:00",
          "2022-11-19T00:00:00",
          "2022-11-20T00:00:00",
          "2022-11-21T00:00:00",
          "2022-11-22T00:00:00",
          "2022-11-23T00:00:00",
          "2022-11-24T00:00:00",
          "2022-11-25T00:00:00",
          "2022-11-26T00:00:00",
          "2022-11-27T00:00:00",
          "2022-11-28T00:00:00",
          "2022-11-29T00:00:00",
          "2022-11-30T00:00:00",
          "2022-12-01T00:00:00",
          "2022-12-02T00:00:00",
          "2022-12-03T00:00:00",
          "2022-12-04T00:00:00",
          "2022-12-05T00:00:00",
          "2022-12-06T00:00:00",
          "2022-12-07T00:00:00",
          "2022-12-08T00:00:00",
          "2022-12-09T00:00:00",
          "2022-12-10T00:00:00",
          "2022-12-11T00:00:00",
          "2022-12-12T00:00:00",
          "2022-12-13T00:00:00",
          "2022-12-14T00:00:00",
          "2022-12-15T00:00:00",
          "2022-12-16T00:00:00",
          "2022-12-17T00:00:00",
          "2022-12-18T00:00:00",
          "2022-12-19T00:00:00",
          "2022-12-20T00:00:00",
          "2022-12-21T00:00:00",
          "2022-12-22T00:00:00",
          "2022-12-23T00:00:00",
          "2022-12-24T00:00:00",
          "2022-12-25T00:00:00",
          "2022-12-26T00:00:00",
          "2022-12-27T00:00:00",
          "2022-12-28T00:00:00"
         ],
         "xaxis": "x",
         "y": [
          0,
          6228,
          133995,
          489179,
          1108859,
          1447075,
          2370454,
          4376554,
          7497398,
          11281177,
          20236106,
          18806866,
          14524519,
          12209581,
          13624362,
          12145107,
          15062557,
          14732453,
          12110003,
          11644394,
          9278482,
          9452577,
          9929441,
          8677283,
          8181137,
          8756093,
          7272484,
          6932413,
          6501269,
          5591225,
          5937533,
          6172179,
          7300153,
          5627434,
          5080994,
          5312846,
          5078691,
          4925440,
          5308572,
          5155093,
          4142974,
          4348421,
          4740097,
          8105793,
          6740743,
          6029842,
          5978522,
          5275421,
          4686412,
          4614125,
          4775854,
          6017907,
          4896761,
          4404090,
          4379718,
          4076071,
          3925963,
          4027236,
          3651685,
          3597143,
          3502563,
          4239691,
          3862113,
          5901967,
          5577651,
          5376916,
          4782262,
          4536339,
          4734426,
          4543854,
          3525367,
          3061609,
          2989028,
          3403197,
          2754425,
          2676761,
          2404290,
          2882635,
          2606471,
          2383150,
          2445494,
          2064641,
          2335019,
          3003137,
          2329830,
          3260159,
          3126525,
          2432818,
          2100369,
          1703679,
          1976721,
          1437559,
          1411955,
          1428298,
          1344927,
          1394879,
          1452549,
          1643255,
          1286546,
          1114523,
          1046661,
          1153005,
          1246068,
          1031228,
          969262,
          988357,
          1054566
         ],
         "yaxis": "y"
        },
        {
         "hovertemplate": "variable=Strikes<br>Date=%{x}<br>value=%{y}<extra></extra>",
         "legendgroup": "Strikes",
         "line": {
          "color": "#EF553B",
          "dash": "solid"
         },
         "marker": {
          "symbol": "circle"
         },
         "mode": "lines",
         "name": "Strikes",
         "orientation": "v",
         "showlegend": true,
         "type": "scatter",
         "x": [
          "2022-09-13T00:00:00",
          "2022-09-14T00:00:00",
          "2022-09-15T00:00:00",
          "2022-09-16T00:00:00",
          "2022-09-17T00:00:00",
          "2022-09-18T00:00:00",
          "2022-09-19T00:00:00",
          "2022-09-20T00:00:00",
          "2022-09-21T00:00:00",
          "2022-09-22T00:00:00",
          "2022-09-23T00:00:00",
          "2022-09-24T00:00:00",
          "2022-09-25T00:00:00",
          "2022-09-26T00:00:00",
          "2022-09-27T00:00:00",
          "2022-09-28T00:00:00",
          "2022-09-29T00:00:00",
          "2022-09-30T00:00:00",
          "2022-10-01T00:00:00",
          "2022-10-02T00:00:00",
          "2022-10-03T00:00:00",
          "2022-10-04T00:00:00",
          "2022-10-05T00:00:00",
          "2022-10-06T00:00:00",
          "2022-10-07T00:00:00",
          "2022-10-08T00:00:00",
          "2022-10-09T00:00:00",
          "2022-10-10T00:00:00",
          "2022-10-11T00:00:00",
          "2022-10-12T00:00:00",
          "2022-10-13T00:00:00",
          "2022-10-14T00:00:00",
          "2022-10-15T00:00:00",
          "2022-10-16T00:00:00",
          "2022-10-17T00:00:00",
          "2022-10-18T00:00:00",
          "2022-10-19T00:00:00",
          "2022-10-20T00:00:00",
          "2022-10-21T00:00:00",
          "2022-10-22T00:00:00",
          "2022-10-23T00:00:00",
          "2022-10-24T00:00:00",
          "2022-10-25T00:00:00",
          "2022-10-26T00:00:00",
          "2022-10-27T00:00:00",
          "2022-10-28T00:00:00",
          "2022-10-29T00:00:00",
          "2022-10-30T00:00:00",
          "2022-10-31T00:00:00",
          "2022-11-01T00:00:00",
          "2022-11-02T00:00:00",
          "2022-11-03T00:00:00",
          "2022-11-04T00:00:00",
          "2022-11-05T00:00:00",
          "2022-11-06T00:00:00",
          "2022-11-07T00:00:00",
          "2022-11-08T00:00:00",
          "2022-11-09T00:00:00",
          "2022-11-10T00:00:00",
          "2022-11-11T00:00:00",
          "2022-11-12T00:00:00",
          "2022-11-13T00:00:00",
          "2022-11-14T00:00:00",
          "2022-11-15T00:00:00",
          "2022-11-16T00:00:00",
          "2022-11-17T00:00:00",
          "2022-11-18T00:00:00",
          "2022-11-19T00:00:00",
          "2022-11-20T00:00:00",
          "2022-11-21T00:00:00",
          "2022-11-22T00:00:00",
          "2022-11-23T00:00:00",
          "2022-11-24T00:00:00",
          "2022-11-25T00:00:00",
          "2022-11-26T00:00:00",
          "2022-11-27T00:00:00",
          "2022-11-28T00:00:00",
          "2022-11-29T00:00:00",
          "2022-11-30T00:00:00",
          "2022-12-01T00:00:00",
          "2022-12-02T00:00:00",
          "2022-12-03T00:00:00",
          "2022-12-04T00:00:00",
          "2022-12-05T00:00:00",
          "2022-12-06T00:00:00",
          "2022-12-07T00:00:00",
          "2022-12-08T00:00:00",
          "2022-12-09T00:00:00",
          "2022-12-10T00:00:00",
          "2022-12-11T00:00:00",
          "2022-12-12T00:00:00",
          "2022-12-13T00:00:00",
          "2022-12-14T00:00:00",
          "2022-12-15T00:00:00",
          "2022-12-16T00:00:00",
          "2022-12-17T00:00:00",
          "2022-12-18T00:00:00",
          "2022-12-19T00:00:00",
          "2022-12-20T00:00:00",
          "2022-12-21T00:00:00",
          "2022-12-22T00:00:00",
          "2022-12-23T00:00:00",
          "2022-12-24T00:00:00",
          "2022-12-25T00:00:00",
          "2022-12-26T00:00:00",
          "2022-12-27T00:00:00",
          "2022-12-28T00:00:00"
         ],
         "xaxis": "x",
         "y": [
          108,
          61,
          91,
          373,
          2501,
          2460,
          5899,
          6024,
          5670,
          9419,
          11340,
          141285,
          953545,
          2985905,
          5791681,
          5817471,
          6602520,
          5386705,
          3627354,
          2908708,
          2273256,
          2174755,
          1690454,
          1152901,
          1143740,
          1236457,
          1090219,
          1243047,
          1239402,
          1005565,
          997247,
          1022897,
          780822,
          753508,
          1282686,
          2098571,
          1707649,
          1527937,
          1622156,
          1416858,
          1122616,
          1310376,
          1553353,
          2197931,
          1702382,
          1502023,
          1350779,
          1142139,
          1009104,
          1146045,
          1211891,
          1395553,
          1132545,
          1111913,
          1219466,
          1029277,
          1048978,
          966972,
          744373,
          718987,
          758287,
          802690,
          736681,
          1652982,
          1516051,
          1183931,
          896243,
          906721,
          708710,
          559055,
          698446,
          634077,
          593108,
          501837,
          823458,
          856085,
          830077,
          783680,
          615325,
          600075,
          567560,
          574816,
          674263,
          1301388,
          870053,
          896242,
          450369,
          304334,
          293559,
          338822,
          350991,
          314807,
          283567,
          252795,
          243871,
          366289,
          302520,
          423946,
          264141,
          228834,
          173177,
          167647,
          193836,
          142954,
          143484,
          107287,
          134840
         ],
         "yaxis": "y"
        }
       ],
       "layout": {
        "annotations": [
         {
          "arrowhead": 2,
          "font": {
           "family": "B nazanin",
           "size": 14
          },
          "showarrow": true,
          "text": "<b>: 23 مهر<br> آتش سوزی زندان اوین <b>",
          "x": "2022-10-15T00:00:00",
          "xshift": 0,
          "y": 7400153,
          "yshift": 0
         },
         {
          "arrowhead": 2,
          "font": {
           "family": "B nazanin",
           "size": 14
          },
          "showarrow": true,
          "text": "<b>: 22 شهریور<br> دستگیری مهسا امینی <b>",
          "x": "2022-09-13T00:00:00",
          "xshift": 0,
          "y": 100000,
          "yshift": 0
         },
         {
          "arrowhead": 2,
          "font": {
           "family": "B nazanin",
           "size": 14
          },
          "showarrow": true,
          "text": "<b>: 25 شهریور<br> کشته شدن مهسا امینی <b>",
          "x": "2022-09-16T00:00:00",
          "xshift": 10,
          "y": 589179,
          "yshift": 30
         },
         {
          "arrowhead": 2,
          "font": {
           "family": "B nazanin",
           "size": 14
          },
          "showarrow": true,
          "text": "<b>: 1 مهر<br> آغاز تظاهرات سراسری <br> اشنویه <b>",
          "x": "2022-09-23T00:00:00",
          "xshift": 0,
          "y": 20336106,
          "yshift": 0
         },
         {
          "arrowhead": 2,
          "font": {
           "family": "B nazanin",
           "size": 14
          },
          "showarrow": true,
          "text": "<b>: 7 مهر<br> جمعه خونین <b>",
          "x": "2022-09-30T00:00:00",
          "xshift": 0,
          "y": 14832453,
          "yshift": 0
         },
         {
          "arrowhead": 2,
          "font": {
           "family": "B nazanin",
           "size": 12
          },
          "showarrow": true,
          "text": "<b>: 10 مهر<br> حمله به دانشگاه شریف <b>",
          "x": "2022-10-02T00:00:00",
          "xshift": 0,
          "y": 11744394,
          "yshift": -5
         },
         {
          "arrowhead": 2,
          "font": {
           "family": "B nazanin",
           "size": 12
          },
          "showarrow": true,
          "text": "<b>: 30 مهر<br> تظاهرات برلین <b>",
          "x": "2022-10-22T00:00:00",
          "xshift": 0,
          "y": 5255093,
          "yshift": 0
         },
         {
          "arrowhead": 2,
          "font": {
           "family": "B nazanin",
           "size": 14
          },
          "showarrow": true,
          "text": "<b>: 4 آبان<br> چهلم مهسا امینی <br> شاهچراغ <b>",
          "x": "2022-10-26T00:00:00",
          "xshift": 0,
          "y": 8205793,
          "yshift": 10
         },
         {
          "arrowhead": 2,
          "font": {
           "family": "B nazanin",
           "size": 14
          },
          "showarrow": true,
          "text": "<b>: 12 آبان<br> چهلم حدیث نجفی<b>",
          "x": "2022-11-03T00:00:00",
          "xshift": 0,
          "y": 6117907,
          "yshift": 10
         },
         {
          "arrowhead": 2,
          "font": {
           "family": "B nazanin",
           "size": 14
          },
          "showarrow": true,
          "text": "<b>: 24 آبان<br> اعتصاب 24و25و26<b>",
          "x": "2022-11-15T00:00:00",
          "xshift": 0,
          "y": 6001967,
          "yshift": 10
         },
         {
          "arrowhead": 2,
          "font": {
           "family": "B nazanin",
           "size": 14
          },
          "showarrow": true,
          "text": "<b>: 14 آذر<br> اعتصاب 14و15و16<b>",
          "x": "2022-12-05T00:00:00",
          "xshift": 0,
          "y": 3103137,
          "yshift": 12
         },
         {
          "arrowhead": 2,
          "font": {
           "family": "B nazanin",
           "size": 12
          },
          "showarrow": false,
          "text": "<b>: 17 آذر<br> اعدام محسن شکاری<b>",
          "x": "2022-12-08T00:00:00",
          "xshift": 0,
          "y": 3226525,
          "yshift": 0
         }
        ],
        "font": {
         "family": "sans-serif"
        },
        "legend": {
         "title": {
          "text": "Hashtags"
         },
         "tracegroupgap": 0
        },
        "margin": {
         "t": 60
        },
        "template": {
         "data": {
          "bar": [
           {
            "error_x": {
             "color": "#2a3f5f"
            },
            "error_y": {
             "color": "#2a3f5f"
            },
            "marker": {
             "line": {
              "color": "#E5ECF6",
              "width": 0.5
             },
             "pattern": {
              "fillmode": "overlay",
              "size": 10,
              "solidity": 0.2
             }
            },
            "type": "bar"
           }
          ],
          "barpolar": [
           {
            "marker": {
             "line": {
              "color": "#E5ECF6",
              "width": 0.5
             },
             "pattern": {
              "fillmode": "overlay",
              "size": 10,
              "solidity": 0.2
             }
            },
            "type": "barpolar"
           }
          ],
          "carpet": [
           {
            "aaxis": {
             "endlinecolor": "#2a3f5f",
             "gridcolor": "white",
             "linecolor": "white",
             "minorgridcolor": "white",
             "startlinecolor": "#2a3f5f"
            },
            "baxis": {
             "endlinecolor": "#2a3f5f",
             "gridcolor": "white",
             "linecolor": "white",
             "minorgridcolor": "white",
             "startlinecolor": "#2a3f5f"
            },
            "type": "carpet"
           }
          ],
          "choropleth": [
           {
            "colorbar": {
             "outlinewidth": 0,
             "ticks": ""
            },
            "type": "choropleth"
           }
          ],
          "contour": [
           {
            "colorbar": {
             "outlinewidth": 0,
             "ticks": ""
            },
            "colorscale": [
             [
              0,
              "#0d0887"
             ],
             [
              0.1111111111111111,
              "#46039f"
             ],
             [
              0.2222222222222222,
              "#7201a8"
             ],
             [
              0.3333333333333333,
              "#9c179e"
             ],
             [
              0.4444444444444444,
              "#bd3786"
             ],
             [
              0.5555555555555556,
              "#d8576b"
             ],
             [
              0.6666666666666666,
              "#ed7953"
             ],
             [
              0.7777777777777778,
              "#fb9f3a"
             ],
             [
              0.8888888888888888,
              "#fdca26"
             ],
             [
              1,
              "#f0f921"
             ]
            ],
            "type": "contour"
           }
          ],
          "contourcarpet": [
           {
            "colorbar": {
             "outlinewidth": 0,
             "ticks": ""
            },
            "type": "contourcarpet"
           }
          ],
          "heatmap": [
           {
            "colorbar": {
             "outlinewidth": 0,
             "ticks": ""
            },
            "colorscale": [
             [
              0,
              "#0d0887"
             ],
             [
              0.1111111111111111,
              "#46039f"
             ],
             [
              0.2222222222222222,
              "#7201a8"
             ],
             [
              0.3333333333333333,
              "#9c179e"
             ],
             [
              0.4444444444444444,
              "#bd3786"
             ],
             [
              0.5555555555555556,
              "#d8576b"
             ],
             [
              0.6666666666666666,
              "#ed7953"
             ],
             [
              0.7777777777777778,
              "#fb9f3a"
             ],
             [
              0.8888888888888888,
              "#fdca26"
             ],
             [
              1,
              "#f0f921"
             ]
            ],
            "type": "heatmap"
           }
          ],
          "heatmapgl": [
           {
            "colorbar": {
             "outlinewidth": 0,
             "ticks": ""
            },
            "colorscale": [
             [
              0,
              "#0d0887"
             ],
             [
              0.1111111111111111,
              "#46039f"
             ],
             [
              0.2222222222222222,
              "#7201a8"
             ],
             [
              0.3333333333333333,
              "#9c179e"
             ],
             [
              0.4444444444444444,
              "#bd3786"
             ],
             [
              0.5555555555555556,
              "#d8576b"
             ],
             [
              0.6666666666666666,
              "#ed7953"
             ],
             [
              0.7777777777777778,
              "#fb9f3a"
             ],
             [
              0.8888888888888888,
              "#fdca26"
             ],
             [
              1,
              "#f0f921"
             ]
            ],
            "type": "heatmapgl"
           }
          ],
          "histogram": [
           {
            "marker": {
             "pattern": {
              "fillmode": "overlay",
              "size": 10,
              "solidity": 0.2
             }
            },
            "type": "histogram"
           }
          ],
          "histogram2d": [
           {
            "colorbar": {
             "outlinewidth": 0,
             "ticks": ""
            },
            "colorscale": [
             [
              0,
              "#0d0887"
             ],
             [
              0.1111111111111111,
              "#46039f"
             ],
             [
              0.2222222222222222,
              "#7201a8"
             ],
             [
              0.3333333333333333,
              "#9c179e"
             ],
             [
              0.4444444444444444,
              "#bd3786"
             ],
             [
              0.5555555555555556,
              "#d8576b"
             ],
             [
              0.6666666666666666,
              "#ed7953"
             ],
             [
              0.7777777777777778,
              "#fb9f3a"
             ],
             [
              0.8888888888888888,
              "#fdca26"
             ],
             [
              1,
              "#f0f921"
             ]
            ],
            "type": "histogram2d"
           }
          ],
          "histogram2dcontour": [
           {
            "colorbar": {
             "outlinewidth": 0,
             "ticks": ""
            },
            "colorscale": [
             [
              0,
              "#0d0887"
             ],
             [
              0.1111111111111111,
              "#46039f"
             ],
             [
              0.2222222222222222,
              "#7201a8"
             ],
             [
              0.3333333333333333,
              "#9c179e"
             ],
             [
              0.4444444444444444,
              "#bd3786"
             ],
             [
              0.5555555555555556,
              "#d8576b"
             ],
             [
              0.6666666666666666,
              "#ed7953"
             ],
             [
              0.7777777777777778,
              "#fb9f3a"
             ],
             [
              0.8888888888888888,
              "#fdca26"
             ],
             [
              1,
              "#f0f921"
             ]
            ],
            "type": "histogram2dcontour"
           }
          ],
          "mesh3d": [
           {
            "colorbar": {
             "outlinewidth": 0,
             "ticks": ""
            },
            "type": "mesh3d"
           }
          ],
          "parcoords": [
           {
            "line": {
             "colorbar": {
              "outlinewidth": 0,
              "ticks": ""
             }
            },
            "type": "parcoords"
           }
          ],
          "pie": [
           {
            "automargin": true,
            "type": "pie"
           }
          ],
          "scatter": [
           {
            "fillpattern": {
             "fillmode": "overlay",
             "size": 10,
             "solidity": 0.2
            },
            "type": "scatter"
           }
          ],
          "scatter3d": [
           {
            "line": {
             "colorbar": {
              "outlinewidth": 0,
              "ticks": ""
             }
            },
            "marker": {
             "colorbar": {
              "outlinewidth": 0,
              "ticks": ""
             }
            },
            "type": "scatter3d"
           }
          ],
          "scattercarpet": [
           {
            "marker": {
             "colorbar": {
              "outlinewidth": 0,
              "ticks": ""
             }
            },
            "type": "scattercarpet"
           }
          ],
          "scattergeo": [
           {
            "marker": {
             "colorbar": {
              "outlinewidth": 0,
              "ticks": ""
             }
            },
            "type": "scattergeo"
           }
          ],
          "scattergl": [
           {
            "marker": {
             "colorbar": {
              "outlinewidth": 0,
              "ticks": ""
             }
            },
            "type": "scattergl"
           }
          ],
          "scattermapbox": [
           {
            "marker": {
             "colorbar": {
              "outlinewidth": 0,
              "ticks": ""
             }
            },
            "type": "scattermapbox"
           }
          ],
          "scatterpolar": [
           {
            "marker": {
             "colorbar": {
              "outlinewidth": 0,
              "ticks": ""
             }
            },
            "type": "scatterpolar"
           }
          ],
          "scatterpolargl": [
           {
            "marker": {
             "colorbar": {
              "outlinewidth": 0,
              "ticks": ""
             }
            },
            "type": "scatterpolargl"
           }
          ],
          "scatterternary": [
           {
            "marker": {
             "colorbar": {
              "outlinewidth": 0,
              "ticks": ""
             }
            },
            "type": "scatterternary"
           }
          ],
          "surface": [
           {
            "colorbar": {
             "outlinewidth": 0,
             "ticks": ""
            },
            "colorscale": [
             [
              0,
              "#0d0887"
             ],
             [
              0.1111111111111111,
              "#46039f"
             ],
             [
              0.2222222222222222,
              "#7201a8"
             ],
             [
              0.3333333333333333,
              "#9c179e"
             ],
             [
              0.4444444444444444,
              "#bd3786"
             ],
             [
              0.5555555555555556,
              "#d8576b"
             ],
             [
              0.6666666666666666,
              "#ed7953"
             ],
             [
              0.7777777777777778,
              "#fb9f3a"
             ],
             [
              0.8888888888888888,
              "#fdca26"
             ],
             [
              1,
              "#f0f921"
             ]
            ],
            "type": "surface"
           }
          ],
          "table": [
           {
            "cells": {
             "fill": {
              "color": "#EBF0F8"
             },
             "line": {
              "color": "white"
             }
            },
            "header": {
             "fill": {
              "color": "#C8D4E3"
             },
             "line": {
              "color": "white"
             }
            },
            "type": "table"
           }
          ]
         },
         "layout": {
          "annotationdefaults": {
           "arrowcolor": "#2a3f5f",
           "arrowhead": 0,
           "arrowwidth": 1
          },
          "autotypenumbers": "strict",
          "coloraxis": {
           "colorbar": {
            "outlinewidth": 0,
            "ticks": ""
           }
          },
          "colorscale": {
           "diverging": [
            [
             0,
             "#8e0152"
            ],
            [
             0.1,
             "#c51b7d"
            ],
            [
             0.2,
             "#de77ae"
            ],
            [
             0.3,
             "#f1b6da"
            ],
            [
             0.4,
             "#fde0ef"
            ],
            [
             0.5,
             "#f7f7f7"
            ],
            [
             0.6,
             "#e6f5d0"
            ],
            [
             0.7,
             "#b8e186"
            ],
            [
             0.8,
             "#7fbc41"
            ],
            [
             0.9,
             "#4d9221"
            ],
            [
             1,
             "#276419"
            ]
           ],
           "sequential": [
            [
             0,
             "#0d0887"
            ],
            [
             0.1111111111111111,
             "#46039f"
            ],
            [
             0.2222222222222222,
             "#7201a8"
            ],
            [
             0.3333333333333333,
             "#9c179e"
            ],
            [
             0.4444444444444444,
             "#bd3786"
            ],
            [
             0.5555555555555556,
             "#d8576b"
            ],
            [
             0.6666666666666666,
             "#ed7953"
            ],
            [
             0.7777777777777778,
             "#fb9f3a"
            ],
            [
             0.8888888888888888,
             "#fdca26"
            ],
            [
             1,
             "#f0f921"
            ]
           ],
           "sequentialminus": [
            [
             0,
             "#0d0887"
            ],
            [
             0.1111111111111111,
             "#46039f"
            ],
            [
             0.2222222222222222,
             "#7201a8"
            ],
            [
             0.3333333333333333,
             "#9c179e"
            ],
            [
             0.4444444444444444,
             "#bd3786"
            ],
            [
             0.5555555555555556,
             "#d8576b"
            ],
            [
             0.6666666666666666,
             "#ed7953"
            ],
            [
             0.7777777777777778,
             "#fb9f3a"
            ],
            [
             0.8888888888888888,
             "#fdca26"
            ],
            [
             1,
             "#f0f921"
            ]
           ]
          },
          "colorway": [
           "#636efa",
           "#EF553B",
           "#00cc96",
           "#ab63fa",
           "#FFA15A",
           "#19d3f3",
           "#FF6692",
           "#B6E880",
           "#FF97FF",
           "#FECB52"
          ],
          "font": {
           "color": "#2a3f5f"
          },
          "geo": {
           "bgcolor": "white",
           "lakecolor": "white",
           "landcolor": "#E5ECF6",
           "showlakes": true,
           "showland": true,
           "subunitcolor": "white"
          },
          "hoverlabel": {
           "align": "left"
          },
          "hovermode": "closest",
          "mapbox": {
           "style": "light"
          },
          "paper_bgcolor": "white",
          "plot_bgcolor": "#E5ECF6",
          "polar": {
           "angularaxis": {
            "gridcolor": "white",
            "linecolor": "white",
            "ticks": ""
           },
           "bgcolor": "#E5ECF6",
           "radialaxis": {
            "gridcolor": "white",
            "linecolor": "white",
            "ticks": ""
           }
          },
          "scene": {
           "xaxis": {
            "backgroundcolor": "#E5ECF6",
            "gridcolor": "white",
            "gridwidth": 2,
            "linecolor": "white",
            "showbackground": true,
            "ticks": "",
            "zerolinecolor": "white"
           },
           "yaxis": {
            "backgroundcolor": "#E5ECF6",
            "gridcolor": "white",
            "gridwidth": 2,
            "linecolor": "white",
            "showbackground": true,
            "ticks": "",
            "zerolinecolor": "white"
           },
           "zaxis": {
            "backgroundcolor": "#E5ECF6",
            "gridcolor": "white",
            "gridwidth": 2,
            "linecolor": "white",
            "showbackground": true,
            "ticks": "",
            "zerolinecolor": "white"
           }
          },
          "shapedefaults": {
           "line": {
            "color": "#2a3f5f"
           }
          },
          "ternary": {
           "aaxis": {
            "gridcolor": "white",
            "linecolor": "white",
            "ticks": ""
           },
           "baxis": {
            "gridcolor": "white",
            "linecolor": "white",
            "ticks": ""
           },
           "bgcolor": "#E5ECF6",
           "caxis": {
            "gridcolor": "white",
            "linecolor": "white",
            "ticks": ""
           }
          },
          "title": {
           "x": 0.05
          },
          "xaxis": {
           "automargin": true,
           "gridcolor": "white",
           "linecolor": "white",
           "ticks": "",
           "title": {
            "standoff": 15
           },
           "zerolinecolor": "white",
           "zerolinewidth": 2
          },
          "yaxis": {
           "automargin": true,
           "gridcolor": "white",
           "linecolor": "white",
           "ticks": "",
           "title": {
            "standoff": 15
           },
           "zerolinecolor": "white",
           "zerolinewidth": 2
          }
         }
        },
        "title": {
         "text": "Trend of hashtags in Iran Revolution 2022",
         "x": 0.5,
         "xanchor": "center",
         "y": 0.9,
         "yanchor": "top"
        },
        "xaxis": {
         "anchor": "y",
         "domain": [
          0,
          1
         ],
         "title": {
          "text": "Date"
         }
        },
        "yaxis": {
         "anchor": "x",
         "domain": [
          0,
          1
         ],
         "title": {
          "text": "Number of Tweets"
         }
        }
       }
      },
      "text/html": [
       "<div>                            <div id=\"fcdfda0d-5f27-40a8-bcdb-571d7c393562\" class=\"plotly-graph-div\" style=\"height:525px; width:100%;\"></div>            <script type=\"text/javascript\">                require([\"plotly\"], function(Plotly) {                    window.PLOTLYENV=window.PLOTLYENV || {};                                    if (document.getElementById(\"fcdfda0d-5f27-40a8-bcdb-571d7c393562\")) {                    Plotly.newPlot(                        \"fcdfda0d-5f27-40a8-bcdb-571d7c393562\",                        [{\"hovertemplate\":\"variable=MahsaAmini<br>Date=%{x}<br>value=%{y}<extra></extra>\",\"legendgroup\":\"MahsaAmini\",\"line\":{\"color\":\"#636efa\",\"dash\":\"solid\"},\"marker\":{\"symbol\":\"circle\"},\"mode\":\"lines\",\"name\":\"MahsaAmini\",\"orientation\":\"v\",\"showlegend\":true,\"x\":[\"2022-09-13T00:00:00\",\"2022-09-14T00:00:00\",\"2022-09-15T00:00:00\",\"2022-09-16T00:00:00\",\"2022-09-17T00:00:00\",\"2022-09-18T00:00:00\",\"2022-09-19T00:00:00\",\"2022-09-20T00:00:00\",\"2022-09-21T00:00:00\",\"2022-09-22T00:00:00\",\"2022-09-23T00:00:00\",\"2022-09-24T00:00:00\",\"2022-09-25T00:00:00\",\"2022-09-26T00:00:00\",\"2022-09-27T00:00:00\",\"2022-09-28T00:00:00\",\"2022-09-29T00:00:00\",\"2022-09-30T00:00:00\",\"2022-10-01T00:00:00\",\"2022-10-02T00:00:00\",\"2022-10-03T00:00:00\",\"2022-10-04T00:00:00\",\"2022-10-05T00:00:00\",\"2022-10-06T00:00:00\",\"2022-10-07T00:00:00\",\"2022-10-08T00:00:00\",\"2022-10-09T00:00:00\",\"2022-10-10T00:00:00\",\"2022-10-11T00:00:00\",\"2022-10-12T00:00:00\",\"2022-10-13T00:00:00\",\"2022-10-14T00:00:00\",\"2022-10-15T00:00:00\",\"2022-10-16T00:00:00\",\"2022-10-17T00:00:00\",\"2022-10-18T00:00:00\",\"2022-10-19T00:00:00\",\"2022-10-20T00:00:00\",\"2022-10-21T00:00:00\",\"2022-10-22T00:00:00\",\"2022-10-23T00:00:00\",\"2022-10-24T00:00:00\",\"2022-10-25T00:00:00\",\"2022-10-26T00:00:00\",\"2022-10-27T00:00:00\",\"2022-10-28T00:00:00\",\"2022-10-29T00:00:00\",\"2022-10-30T00:00:00\",\"2022-10-31T00:00:00\",\"2022-11-01T00:00:00\",\"2022-11-02T00:00:00\",\"2022-11-03T00:00:00\",\"2022-11-04T00:00:00\",\"2022-11-05T00:00:00\",\"2022-11-06T00:00:00\",\"2022-11-07T00:00:00\",\"2022-11-08T00:00:00\",\"2022-11-09T00:00:00\",\"2022-11-10T00:00:00\",\"2022-11-11T00:00:00\",\"2022-11-12T00:00:00\",\"2022-11-13T00:00:00\",\"2022-11-14T00:00:00\",\"2022-11-15T00:00:00\",\"2022-11-16T00:00:00\",\"2022-11-17T00:00:00\",\"2022-11-18T00:00:00\",\"2022-11-19T00:00:00\",\"2022-11-20T00:00:00\",\"2022-11-21T00:00:00\",\"2022-11-22T00:00:00\",\"2022-11-23T00:00:00\",\"2022-11-24T00:00:00\",\"2022-11-25T00:00:00\",\"2022-11-26T00:00:00\",\"2022-11-27T00:00:00\",\"2022-11-28T00:00:00\",\"2022-11-29T00:00:00\",\"2022-11-30T00:00:00\",\"2022-12-01T00:00:00\",\"2022-12-02T00:00:00\",\"2022-12-03T00:00:00\",\"2022-12-04T00:00:00\",\"2022-12-05T00:00:00\",\"2022-12-06T00:00:00\",\"2022-12-07T00:00:00\",\"2022-12-08T00:00:00\",\"2022-12-09T00:00:00\",\"2022-12-10T00:00:00\",\"2022-12-11T00:00:00\",\"2022-12-12T00:00:00\",\"2022-12-13T00:00:00\",\"2022-12-14T00:00:00\",\"2022-12-15T00:00:00\",\"2022-12-16T00:00:00\",\"2022-12-17T00:00:00\",\"2022-12-18T00:00:00\",\"2022-12-19T00:00:00\",\"2022-12-20T00:00:00\",\"2022-12-21T00:00:00\",\"2022-12-22T00:00:00\",\"2022-12-23T00:00:00\",\"2022-12-24T00:00:00\",\"2022-12-25T00:00:00\",\"2022-12-26T00:00:00\",\"2022-12-27T00:00:00\",\"2022-12-28T00:00:00\"],\"xaxis\":\"x\",\"y\":[0,6228,133995,489179,1108859,1447075,2370454,4376554,7497398,11281177,20236106,18806866,14524519,12209581,13624362,12145107,15062557,14732453,12110003,11644394,9278482,9452577,9929441,8677283,8181137,8756093,7272484,6932413,6501269,5591225,5937533,6172179,7300153,5627434,5080994,5312846,5078691,4925440,5308572,5155093,4142974,4348421,4740097,8105793,6740743,6029842,5978522,5275421,4686412,4614125,4775854,6017907,4896761,4404090,4379718,4076071,3925963,4027236,3651685,3597143,3502563,4239691,3862113,5901967,5577651,5376916,4782262,4536339,4734426,4543854,3525367,3061609,2989028,3403197,2754425,2676761,2404290,2882635,2606471,2383150,2445494,2064641,2335019,3003137,2329830,3260159,3126525,2432818,2100369,1703679,1976721,1437559,1411955,1428298,1344927,1394879,1452549,1643255,1286546,1114523,1046661,1153005,1246068,1031228,969262,988357,1054566],\"yaxis\":\"y\",\"type\":\"scatter\"},{\"hovertemplate\":\"variable=Strikes<br>Date=%{x}<br>value=%{y}<extra></extra>\",\"legendgroup\":\"Strikes\",\"line\":{\"color\":\"#EF553B\",\"dash\":\"solid\"},\"marker\":{\"symbol\":\"circle\"},\"mode\":\"lines\",\"name\":\"Strikes\",\"orientation\":\"v\",\"showlegend\":true,\"x\":[\"2022-09-13T00:00:00\",\"2022-09-14T00:00:00\",\"2022-09-15T00:00:00\",\"2022-09-16T00:00:00\",\"2022-09-17T00:00:00\",\"2022-09-18T00:00:00\",\"2022-09-19T00:00:00\",\"2022-09-20T00:00:00\",\"2022-09-21T00:00:00\",\"2022-09-22T00:00:00\",\"2022-09-23T00:00:00\",\"2022-09-24T00:00:00\",\"2022-09-25T00:00:00\",\"2022-09-26T00:00:00\",\"2022-09-27T00:00:00\",\"2022-09-28T00:00:00\",\"2022-09-29T00:00:00\",\"2022-09-30T00:00:00\",\"2022-10-01T00:00:00\",\"2022-10-02T00:00:00\",\"2022-10-03T00:00:00\",\"2022-10-04T00:00:00\",\"2022-10-05T00:00:00\",\"2022-10-06T00:00:00\",\"2022-10-07T00:00:00\",\"2022-10-08T00:00:00\",\"2022-10-09T00:00:00\",\"2022-10-10T00:00:00\",\"2022-10-11T00:00:00\",\"2022-10-12T00:00:00\",\"2022-10-13T00:00:00\",\"2022-10-14T00:00:00\",\"2022-10-15T00:00:00\",\"2022-10-16T00:00:00\",\"2022-10-17T00:00:00\",\"2022-10-18T00:00:00\",\"2022-10-19T00:00:00\",\"2022-10-20T00:00:00\",\"2022-10-21T00:00:00\",\"2022-10-22T00:00:00\",\"2022-10-23T00:00:00\",\"2022-10-24T00:00:00\",\"2022-10-25T00:00:00\",\"2022-10-26T00:00:00\",\"2022-10-27T00:00:00\",\"2022-10-28T00:00:00\",\"2022-10-29T00:00:00\",\"2022-10-30T00:00:00\",\"2022-10-31T00:00:00\",\"2022-11-01T00:00:00\",\"2022-11-02T00:00:00\",\"2022-11-03T00:00:00\",\"2022-11-04T00:00:00\",\"2022-11-05T00:00:00\",\"2022-11-06T00:00:00\",\"2022-11-07T00:00:00\",\"2022-11-08T00:00:00\",\"2022-11-09T00:00:00\",\"2022-11-10T00:00:00\",\"2022-11-11T00:00:00\",\"2022-11-12T00:00:00\",\"2022-11-13T00:00:00\",\"2022-11-14T00:00:00\",\"2022-11-15T00:00:00\",\"2022-11-16T00:00:00\",\"2022-11-17T00:00:00\",\"2022-11-18T00:00:00\",\"2022-11-19T00:00:00\",\"2022-11-20T00:00:00\",\"2022-11-21T00:00:00\",\"2022-11-22T00:00:00\",\"2022-11-23T00:00:00\",\"2022-11-24T00:00:00\",\"2022-11-25T00:00:00\",\"2022-11-26T00:00:00\",\"2022-11-27T00:00:00\",\"2022-11-28T00:00:00\",\"2022-11-29T00:00:00\",\"2022-11-30T00:00:00\",\"2022-12-01T00:00:00\",\"2022-12-02T00:00:00\",\"2022-12-03T00:00:00\",\"2022-12-04T00:00:00\",\"2022-12-05T00:00:00\",\"2022-12-06T00:00:00\",\"2022-12-07T00:00:00\",\"2022-12-08T00:00:00\",\"2022-12-09T00:00:00\",\"2022-12-10T00:00:00\",\"2022-12-11T00:00:00\",\"2022-12-12T00:00:00\",\"2022-12-13T00:00:00\",\"2022-12-14T00:00:00\",\"2022-12-15T00:00:00\",\"2022-12-16T00:00:00\",\"2022-12-17T00:00:00\",\"2022-12-18T00:00:00\",\"2022-12-19T00:00:00\",\"2022-12-20T00:00:00\",\"2022-12-21T00:00:00\",\"2022-12-22T00:00:00\",\"2022-12-23T00:00:00\",\"2022-12-24T00:00:00\",\"2022-12-25T00:00:00\",\"2022-12-26T00:00:00\",\"2022-12-27T00:00:00\",\"2022-12-28T00:00:00\"],\"xaxis\":\"x\",\"y\":[108,61,91,373,2501,2460,5899,6024,5670,9419,11340,141285,953545,2985905,5791681,5817471,6602520,5386705,3627354,2908708,2273256,2174755,1690454,1152901,1143740,1236457,1090219,1243047,1239402,1005565,997247,1022897,780822,753508,1282686,2098571,1707649,1527937,1622156,1416858,1122616,1310376,1553353,2197931,1702382,1502023,1350779,1142139,1009104,1146045,1211891,1395553,1132545,1111913,1219466,1029277,1048978,966972,744373,718987,758287,802690,736681,1652982,1516051,1183931,896243,906721,708710,559055,698446,634077,593108,501837,823458,856085,830077,783680,615325,600075,567560,574816,674263,1301388,870053,896242,450369,304334,293559,338822,350991,314807,283567,252795,243871,366289,302520,423946,264141,228834,173177,167647,193836,142954,143484,107287,134840],\"yaxis\":\"y\",\"type\":\"scatter\"}],                        {\"template\":{\"data\":{\"histogram2dcontour\":[{\"type\":\"histogram2dcontour\",\"colorbar\":{\"outlinewidth\":0,\"ticks\":\"\"},\"colorscale\":[[0.0,\"#0d0887\"],[0.1111111111111111,\"#46039f\"],[0.2222222222222222,\"#7201a8\"],[0.3333333333333333,\"#9c179e\"],[0.4444444444444444,\"#bd3786\"],[0.5555555555555556,\"#d8576b\"],[0.6666666666666666,\"#ed7953\"],[0.7777777777777778,\"#fb9f3a\"],[0.8888888888888888,\"#fdca26\"],[1.0,\"#f0f921\"]]}],\"choropleth\":[{\"type\":\"choropleth\",\"colorbar\":{\"outlinewidth\":0,\"ticks\":\"\"}}],\"histogram2d\":[{\"type\":\"histogram2d\",\"colorbar\":{\"outlinewidth\":0,\"ticks\":\"\"},\"colorscale\":[[0.0,\"#0d0887\"],[0.1111111111111111,\"#46039f\"],[0.2222222222222222,\"#7201a8\"],[0.3333333333333333,\"#9c179e\"],[0.4444444444444444,\"#bd3786\"],[0.5555555555555556,\"#d8576b\"],[0.6666666666666666,\"#ed7953\"],[0.7777777777777778,\"#fb9f3a\"],[0.8888888888888888,\"#fdca26\"],[1.0,\"#f0f921\"]]}],\"heatmap\":[{\"type\":\"heatmap\",\"colorbar\":{\"outlinewidth\":0,\"ticks\":\"\"},\"colorscale\":[[0.0,\"#0d0887\"],[0.1111111111111111,\"#46039f\"],[0.2222222222222222,\"#7201a8\"],[0.3333333333333333,\"#9c179e\"],[0.4444444444444444,\"#bd3786\"],[0.5555555555555556,\"#d8576b\"],[0.6666666666666666,\"#ed7953\"],[0.7777777777777778,\"#fb9f3a\"],[0.8888888888888888,\"#fdca26\"],[1.0,\"#f0f921\"]]}],\"heatmapgl\":[{\"type\":\"heatmapgl\",\"colorbar\":{\"outlinewidth\":0,\"ticks\":\"\"},\"colorscale\":[[0.0,\"#0d0887\"],[0.1111111111111111,\"#46039f\"],[0.2222222222222222,\"#7201a8\"],[0.3333333333333333,\"#9c179e\"],[0.4444444444444444,\"#bd3786\"],[0.5555555555555556,\"#d8576b\"],[0.6666666666666666,\"#ed7953\"],[0.7777777777777778,\"#fb9f3a\"],[0.8888888888888888,\"#fdca26\"],[1.0,\"#f0f921\"]]}],\"contourcarpet\":[{\"type\":\"contourcarpet\",\"colorbar\":{\"outlinewidth\":0,\"ticks\":\"\"}}],\"contour\":[{\"type\":\"contour\",\"colorbar\":{\"outlinewidth\":0,\"ticks\":\"\"},\"colorscale\":[[0.0,\"#0d0887\"],[0.1111111111111111,\"#46039f\"],[0.2222222222222222,\"#7201a8\"],[0.3333333333333333,\"#9c179e\"],[0.4444444444444444,\"#bd3786\"],[0.5555555555555556,\"#d8576b\"],[0.6666666666666666,\"#ed7953\"],[0.7777777777777778,\"#fb9f3a\"],[0.8888888888888888,\"#fdca26\"],[1.0,\"#f0f921\"]]}],\"surface\":[{\"type\":\"surface\",\"colorbar\":{\"outlinewidth\":0,\"ticks\":\"\"},\"colorscale\":[[0.0,\"#0d0887\"],[0.1111111111111111,\"#46039f\"],[0.2222222222222222,\"#7201a8\"],[0.3333333333333333,\"#9c179e\"],[0.4444444444444444,\"#bd3786\"],[0.5555555555555556,\"#d8576b\"],[0.6666666666666666,\"#ed7953\"],[0.7777777777777778,\"#fb9f3a\"],[0.8888888888888888,\"#fdca26\"],[1.0,\"#f0f921\"]]}],\"mesh3d\":[{\"type\":\"mesh3d\",\"colorbar\":{\"outlinewidth\":0,\"ticks\":\"\"}}],\"scatter\":[{\"fillpattern\":{\"fillmode\":\"overlay\",\"size\":10,\"solidity\":0.2},\"type\":\"scatter\"}],\"parcoords\":[{\"type\":\"parcoords\",\"line\":{\"colorbar\":{\"outlinewidth\":0,\"ticks\":\"\"}}}],\"scatterpolargl\":[{\"type\":\"scatterpolargl\",\"marker\":{\"colorbar\":{\"outlinewidth\":0,\"ticks\":\"\"}}}],\"bar\":[{\"error_x\":{\"color\":\"#2a3f5f\"},\"error_y\":{\"color\":\"#2a3f5f\"},\"marker\":{\"line\":{\"color\":\"#E5ECF6\",\"width\":0.5},\"pattern\":{\"fillmode\":\"overlay\",\"size\":10,\"solidity\":0.2}},\"type\":\"bar\"}],\"scattergeo\":[{\"type\":\"scattergeo\",\"marker\":{\"colorbar\":{\"outlinewidth\":0,\"ticks\":\"\"}}}],\"scatterpolar\":[{\"type\":\"scatterpolar\",\"marker\":{\"colorbar\":{\"outlinewidth\":0,\"ticks\":\"\"}}}],\"histogram\":[{\"marker\":{\"pattern\":{\"fillmode\":\"overlay\",\"size\":10,\"solidity\":0.2}},\"type\":\"histogram\"}],\"scattergl\":[{\"type\":\"scattergl\",\"marker\":{\"colorbar\":{\"outlinewidth\":0,\"ticks\":\"\"}}}],\"scatter3d\":[{\"type\":\"scatter3d\",\"line\":{\"colorbar\":{\"outlinewidth\":0,\"ticks\":\"\"}},\"marker\":{\"colorbar\":{\"outlinewidth\":0,\"ticks\":\"\"}}}],\"scattermapbox\":[{\"type\":\"scattermapbox\",\"marker\":{\"colorbar\":{\"outlinewidth\":0,\"ticks\":\"\"}}}],\"scatterternary\":[{\"type\":\"scatterternary\",\"marker\":{\"colorbar\":{\"outlinewidth\":0,\"ticks\":\"\"}}}],\"scattercarpet\":[{\"type\":\"scattercarpet\",\"marker\":{\"colorbar\":{\"outlinewidth\":0,\"ticks\":\"\"}}}],\"carpet\":[{\"aaxis\":{\"endlinecolor\":\"#2a3f5f\",\"gridcolor\":\"white\",\"linecolor\":\"white\",\"minorgridcolor\":\"white\",\"startlinecolor\":\"#2a3f5f\"},\"baxis\":{\"endlinecolor\":\"#2a3f5f\",\"gridcolor\":\"white\",\"linecolor\":\"white\",\"minorgridcolor\":\"white\",\"startlinecolor\":\"#2a3f5f\"},\"type\":\"carpet\"}],\"table\":[{\"cells\":{\"fill\":{\"color\":\"#EBF0F8\"},\"line\":{\"color\":\"white\"}},\"header\":{\"fill\":{\"color\":\"#C8D4E3\"},\"line\":{\"color\":\"white\"}},\"type\":\"table\"}],\"barpolar\":[{\"marker\":{\"line\":{\"color\":\"#E5ECF6\",\"width\":0.5},\"pattern\":{\"fillmode\":\"overlay\",\"size\":10,\"solidity\":0.2}},\"type\":\"barpolar\"}],\"pie\":[{\"automargin\":true,\"type\":\"pie\"}]},\"layout\":{\"autotypenumbers\":\"strict\",\"colorway\":[\"#636efa\",\"#EF553B\",\"#00cc96\",\"#ab63fa\",\"#FFA15A\",\"#19d3f3\",\"#FF6692\",\"#B6E880\",\"#FF97FF\",\"#FECB52\"],\"font\":{\"color\":\"#2a3f5f\"},\"hovermode\":\"closest\",\"hoverlabel\":{\"align\":\"left\"},\"paper_bgcolor\":\"white\",\"plot_bgcolor\":\"#E5ECF6\",\"polar\":{\"bgcolor\":\"#E5ECF6\",\"angularaxis\":{\"gridcolor\":\"white\",\"linecolor\":\"white\",\"ticks\":\"\"},\"radialaxis\":{\"gridcolor\":\"white\",\"linecolor\":\"white\",\"ticks\":\"\"}},\"ternary\":{\"bgcolor\":\"#E5ECF6\",\"aaxis\":{\"gridcolor\":\"white\",\"linecolor\":\"white\",\"ticks\":\"\"},\"baxis\":{\"gridcolor\":\"white\",\"linecolor\":\"white\",\"ticks\":\"\"},\"caxis\":{\"gridcolor\":\"white\",\"linecolor\":\"white\",\"ticks\":\"\"}},\"coloraxis\":{\"colorbar\":{\"outlinewidth\":0,\"ticks\":\"\"}},\"colorscale\":{\"sequential\":[[0.0,\"#0d0887\"],[0.1111111111111111,\"#46039f\"],[0.2222222222222222,\"#7201a8\"],[0.3333333333333333,\"#9c179e\"],[0.4444444444444444,\"#bd3786\"],[0.5555555555555556,\"#d8576b\"],[0.6666666666666666,\"#ed7953\"],[0.7777777777777778,\"#fb9f3a\"],[0.8888888888888888,\"#fdca26\"],[1.0,\"#f0f921\"]],\"sequentialminus\":[[0.0,\"#0d0887\"],[0.1111111111111111,\"#46039f\"],[0.2222222222222222,\"#7201a8\"],[0.3333333333333333,\"#9c179e\"],[0.4444444444444444,\"#bd3786\"],[0.5555555555555556,\"#d8576b\"],[0.6666666666666666,\"#ed7953\"],[0.7777777777777778,\"#fb9f3a\"],[0.8888888888888888,\"#fdca26\"],[1.0,\"#f0f921\"]],\"diverging\":[[0,\"#8e0152\"],[0.1,\"#c51b7d\"],[0.2,\"#de77ae\"],[0.3,\"#f1b6da\"],[0.4,\"#fde0ef\"],[0.5,\"#f7f7f7\"],[0.6,\"#e6f5d0\"],[0.7,\"#b8e186\"],[0.8,\"#7fbc41\"],[0.9,\"#4d9221\"],[1,\"#276419\"]]},\"xaxis\":{\"gridcolor\":\"white\",\"linecolor\":\"white\",\"ticks\":\"\",\"title\":{\"standoff\":15},\"zerolinecolor\":\"white\",\"automargin\":true,\"zerolinewidth\":2},\"yaxis\":{\"gridcolor\":\"white\",\"linecolor\":\"white\",\"ticks\":\"\",\"title\":{\"standoff\":15},\"zerolinecolor\":\"white\",\"automargin\":true,\"zerolinewidth\":2},\"scene\":{\"xaxis\":{\"backgroundcolor\":\"#E5ECF6\",\"gridcolor\":\"white\",\"linecolor\":\"white\",\"showbackground\":true,\"ticks\":\"\",\"zerolinecolor\":\"white\",\"gridwidth\":2},\"yaxis\":{\"backgroundcolor\":\"#E5ECF6\",\"gridcolor\":\"white\",\"linecolor\":\"white\",\"showbackground\":true,\"ticks\":\"\",\"zerolinecolor\":\"white\",\"gridwidth\":2},\"zaxis\":{\"backgroundcolor\":\"#E5ECF6\",\"gridcolor\":\"white\",\"linecolor\":\"white\",\"showbackground\":true,\"ticks\":\"\",\"zerolinecolor\":\"white\",\"gridwidth\":2}},\"shapedefaults\":{\"line\":{\"color\":\"#2a3f5f\"}},\"annotationdefaults\":{\"arrowcolor\":\"#2a3f5f\",\"arrowhead\":0,\"arrowwidth\":1},\"geo\":{\"bgcolor\":\"white\",\"landcolor\":\"#E5ECF6\",\"subunitcolor\":\"white\",\"showland\":true,\"showlakes\":true,\"lakecolor\":\"white\"},\"title\":{\"x\":0.05},\"mapbox\":{\"style\":\"light\"}}},\"xaxis\":{\"anchor\":\"y\",\"domain\":[0.0,1.0],\"title\":{\"text\":\"Date\"}},\"yaxis\":{\"anchor\":\"x\",\"domain\":[0.0,1.0],\"title\":{\"text\":\"Number of Tweets\"}},\"legend\":{\"title\":{\"text\":\"Hashtags\"},\"tracegroupgap\":0},\"margin\":{\"t\":60},\"font\":{\"family\":\"sans-serif\"},\"title\":{\"text\":\"Trend of hashtags in Iran Revolution 2022\",\"y\":0.9,\"x\":0.5,\"xanchor\":\"center\",\"yanchor\":\"top\"},\"annotations\":[{\"arrowhead\":2,\"font\":{\"family\":\"B nazanin\",\"size\":14},\"showarrow\":true,\"text\":\"<b>: 23 \\u0645\\u0647\\u0631<br> \\u0622\\u062a\\u0634 \\u0633\\u0648\\u0632\\u06cc \\u0632\\u0646\\u062f\\u0627\\u0646 \\u0627\\u0648\\u06cc\\u0646 <b>\",\"x\":\"2022-10-15T00:00:00\",\"xshift\":0,\"y\":7400153.0,\"yshift\":0},{\"arrowhead\":2,\"font\":{\"family\":\"B nazanin\",\"size\":14},\"showarrow\":true,\"text\":\"<b>: 22 \\u0634\\u0647\\u0631\\u06cc\\u0648\\u0631<br> \\u062f\\u0633\\u062a\\u06af\\u06cc\\u0631\\u06cc \\u0645\\u0647\\u0633\\u0627 \\u0627\\u0645\\u06cc\\u0646\\u06cc <b>\",\"x\":\"2022-09-13T00:00:00\",\"xshift\":0,\"y\":100000.0,\"yshift\":0},{\"arrowhead\":2,\"font\":{\"family\":\"B nazanin\",\"size\":14},\"showarrow\":true,\"text\":\"<b>: 25 \\u0634\\u0647\\u0631\\u06cc\\u0648\\u0631<br> \\u06a9\\u0634\\u062a\\u0647 \\u0634\\u062f\\u0646 \\u0645\\u0647\\u0633\\u0627 \\u0627\\u0645\\u06cc\\u0646\\u06cc <b>\",\"x\":\"2022-09-16T00:00:00\",\"xshift\":10,\"y\":589179.0,\"yshift\":30},{\"arrowhead\":2,\"font\":{\"family\":\"B nazanin\",\"size\":14},\"showarrow\":true,\"text\":\"<b>: 1 \\u0645\\u0647\\u0631<br> \\u0622\\u063a\\u0627\\u0632 \\u062a\\u0638\\u0627\\u0647\\u0631\\u0627\\u062a \\u0633\\u0631\\u0627\\u0633\\u0631\\u06cc <br> \\u0627\\u0634\\u0646\\u0648\\u06cc\\u0647 <b>\",\"x\":\"2022-09-23T00:00:00\",\"xshift\":0,\"y\":20336106.0,\"yshift\":0},{\"arrowhead\":2,\"font\":{\"family\":\"B nazanin\",\"size\":14},\"showarrow\":true,\"text\":\"<b>: 7 \\u0645\\u0647\\u0631<br> \\u062c\\u0645\\u0639\\u0647 \\u062e\\u0648\\u0646\\u06cc\\u0646 <b>\",\"x\":\"2022-09-30T00:00:00\",\"xshift\":0,\"y\":14832453.0,\"yshift\":0},{\"arrowhead\":2,\"font\":{\"family\":\"B nazanin\",\"size\":12},\"showarrow\":true,\"text\":\"<b>: 10 \\u0645\\u0647\\u0631<br> \\u062d\\u0645\\u0644\\u0647 \\u0628\\u0647 \\u062f\\u0627\\u0646\\u0634\\u06af\\u0627\\u0647 \\u0634\\u0631\\u06cc\\u0641 <b>\",\"x\":\"2022-10-02T00:00:00\",\"xshift\":0,\"y\":11744394.0,\"yshift\":-5},{\"arrowhead\":2,\"font\":{\"family\":\"B nazanin\",\"size\":12},\"showarrow\":true,\"text\":\"<b>: 30 \\u0645\\u0647\\u0631<br> \\u062a\\u0638\\u0627\\u0647\\u0631\\u0627\\u062a \\u0628\\u0631\\u0644\\u06cc\\u0646 <b>\",\"x\":\"2022-10-22T00:00:00\",\"xshift\":0,\"y\":5255093.0,\"yshift\":0},{\"arrowhead\":2,\"font\":{\"family\":\"B nazanin\",\"size\":14},\"showarrow\":true,\"text\":\"<b>: 4 \\u0622\\u0628\\u0627\\u0646<br> \\u0686\\u0647\\u0644\\u0645 \\u0645\\u0647\\u0633\\u0627 \\u0627\\u0645\\u06cc\\u0646\\u06cc <br> \\u0634\\u0627\\u0647\\u0686\\u0631\\u0627\\u063a <b>\",\"x\":\"2022-10-26T00:00:00\",\"xshift\":0,\"y\":8205793.0,\"yshift\":10},{\"arrowhead\":2,\"font\":{\"family\":\"B nazanin\",\"size\":14},\"showarrow\":true,\"text\":\"<b>: 12 \\u0622\\u0628\\u0627\\u0646<br> \\u0686\\u0647\\u0644\\u0645 \\u062d\\u062f\\u06cc\\u062b \\u0646\\u062c\\u0641\\u06cc<b>\",\"x\":\"2022-11-03T00:00:00\",\"xshift\":0,\"y\":6117907.0,\"yshift\":10},{\"arrowhead\":2,\"font\":{\"family\":\"B nazanin\",\"size\":14},\"showarrow\":true,\"text\":\"<b>: 24 \\u0622\\u0628\\u0627\\u0646<br> \\u0627\\u0639\\u062a\\u0635\\u0627\\u0628 24\\u064825\\u064826<b>\",\"x\":\"2022-11-15T00:00:00\",\"xshift\":0,\"y\":6001967.0,\"yshift\":10},{\"arrowhead\":2,\"font\":{\"family\":\"B nazanin\",\"size\":14},\"showarrow\":true,\"text\":\"<b>: 14 \\u0622\\u0630\\u0631<br> \\u0627\\u0639\\u062a\\u0635\\u0627\\u0628 14\\u064815\\u064816<b>\",\"x\":\"2022-12-05T00:00:00\",\"xshift\":0,\"y\":3103137.0,\"yshift\":12},{\"arrowhead\":2,\"font\":{\"family\":\"B nazanin\",\"size\":12},\"showarrow\":false,\"text\":\"<b>: 17 \\u0622\\u0630\\u0631<br> \\u0627\\u0639\\u062f\\u0627\\u0645 \\u0645\\u062d\\u0633\\u0646 \\u0634\\u06a9\\u0627\\u0631\\u06cc<b>\",\"x\":\"2022-12-08T00:00:00\",\"xshift\":0,\"y\":3226525.0,\"yshift\":0}]},                        {\"responsive\": true}                    ).then(function(){\n",
       "                            \n",
       "var gd = document.getElementById('fcdfda0d-5f27-40a8-bcdb-571d7c393562');\n",
       "var x = new MutationObserver(function (mutations, observer) {{\n",
       "        var display = window.getComputedStyle(gd).display;\n",
       "        if (!display || display === 'none') {{\n",
       "            console.log([gd, 'removed!']);\n",
       "            Plotly.purge(gd);\n",
       "            observer.disconnect();\n",
       "        }}\n",
       "}});\n",
       "\n",
       "// Listen for the removal of the full notebook cells\n",
       "var notebookContainer = gd.closest('#notebook-container');\n",
       "if (notebookContainer) {{\n",
       "    x.observe(notebookContainer, {childList: true});\n",
       "}}\n",
       "\n",
       "// Listen for the clearing of the current output cell\n",
       "var outputEl = gd.closest('.output');\n",
       "if (outputEl) {{\n",
       "    x.observe(outputEl, {childList: true});\n",
       "}}\n",
       "\n",
       "                        })                };                });            </script>        </div>"
      ]
     },
     "metadata": {},
     "output_type": "display_data"
    }
   ],
   "source": [
    "plotMarkerConstant=1e5\n",
    "fig = px.line(df, x=\"Date\", y=[\"MahsaAmini\",\"Strikes\"],)\n",
    "fig.update_layout(\n",
    "    font_family = \"sans-serif\",\n",
    "    title={\n",
    "        'text': \"Trend of hashtags in Iran Revolution 2022\",\n",
    "        'y':0.9,\n",
    "        'x':0.5,\n",
    "        'xanchor': 'center',\n",
    "        'yanchor': 'top'},\n",
    "\n",
    "    xaxis_title=\"Date\",\n",
    "    yaxis_title=\"Number of Tweets\",\n",
    "    legend_title=\"Hashtags\")\n",
    "\n",
    "\n",
    "annotate(fig,df,\"2022-10-15\",\"<b>: 23 مهر<br> آتش سوزی زندان اوین <b>\")\n",
    "annotate(fig,df,\"2022-09-13\",\"<b>: 22 شهریور<br> دستگیری مهسا امینی <b>\")\n",
    "annotate(fig,df,\"2022-09-16\",\"<b>: 25 شهریور<br> کشته شدن مهسا امینی <b>\",yshift=30,xshift=10)\n",
    "annotate(fig,df,\"2022-09-23\",\"<b>: 1 مهر<br> آغاز تظاهرات سراسری <br> اشنویه <b>\")\n",
    "annotate(fig,df,\"2022-09-30\",\"<b>: 7 مهر<br> جمعه خونین <b>\")\n",
    "annotate(fig,df,\"2022-10-02\",\"<b>: 10 مهر<br> حمله به دانشگاه شریف <b>\",yshift=-5,xshift=0,fontsize=12)\n",
    "annotate(fig,df,\"2022-10-22\",\"<b>: 30 مهر<br> تظاهرات برلین <b>\", fontsize=12)\n",
    "annotate(fig,df,\"2022-10-26\",\"<b>: 4 آبان<br> چهلم مهسا امینی <br> شاهچراغ <b>\",yshift=10)\n",
    "annotate(fig,df,\"2022-11-03\",\"<b>: 12 آبان<br> چهلم حدیث نجفی<b>\",yshift=10)\n",
    "annotate(fig,df,\"2022-11-15\",\"<b>: 24 آبان<br> اعتصاب 24و25و26<b>\",yshift=10)\n",
    "annotate(fig,df,\"2022-12-05\",\"<b>: 14 آذر<br> اعتصاب 14و15و16<b>\",yshift=12)\n",
    "annotate(fig,df,\"2022-12-08\",\"<b>: 17 آذر<br> اعدام محسن شکاری<b>\",arrow=False,yshift=0,fontsize=12)\n",
    "\n",
    "# # fig.add_shape()\n",
    "# fig.add_annotation(yref='paper',x=pd.to_datetime(\"20221230\"), y=1.06, text=\"aaaa\")\n",
    "\n",
    "fig.show()\n",
    "\n"
   ]
  },
  {
   "cell_type": "code",
   "execution_count": 27,
   "metadata": {},
   "outputs": [
    {
     "name": "stdout",
     "output_type": "stream",
     "text": [
      "531219729\n",
      "113359861\n"
     ]
    }
   ],
   "source": [
    "\n",
    "\n",
    "# fig.write_html(\"/home/arash/projects/IranProtest22.html\")\n",
    "# fig.write_image(\"/home/arash/projects/IranProtest22.png\")\n",
    "print(df['MahsaAmini'].sum())\n",
    "print(df['Strikes'].sum())\n"
   ]
  },
  {
   "cell_type": "markdown",
   "metadata": {},
   "source": [
    "## Dash"
   ]
  },
  {
   "cell_type": "code",
   "execution_count": null,
   "metadata": {},
   "outputs": [],
   "source": [
    "\n",
    "fig = px.line(df, x=\"start\", y=\"tweet_count\")\n",
    "# fig.show()\n",
    "\n",
    "# fig.write_html(\"/home/arash/projects/IranProtest22.html\")\n",
    "app = dash.Dash(external_stylesheets=[dbc.themes.JOURNAL])\n",
    "server = app.server\n",
    "\n",
    "colors = {\"background\": \"#FFFFFF\", \"text\": \"#1DA1F2\"}\n",
    "\n",
    "fig.update_layout(\n",
    "    plot_bgcolor=colors[\"background\"],\n",
    "    paper_bgcolor=colors[\"background\"],\n",
    "    font_color=colors[\"text\"],\n",
    ")\n",
    "\n",
    "app.layout = html.Div(\n",
    "    style={\"backgroundColor\": colors[\"background\"]},\n",
    "    children=[\n",
    "        html.H1(\n",
    "            children=\"Tweets by Date\",\n",
    "            style={\"textAlign\": \"center\", \"color\": colors[\"text\"]},\n",
    "        ),\n",
    "        html.Div(\n",
    "            children=\"An example using Dash and the Twitter API recent search counts to see how much I've been Tweeting this week\",\n",
    "            style={\"textAlign\": \"center\", \"color\": colors[\"text\"]},\n",
    "        ),\n",
    "        dcc.Graph(id=\"example-twitter\", figure=fig),\n",
    "    ],\n",
    ")\n",
    "\n",
    "# if __name__ == \"__main__\":\n",
    "app.run(debug=True)"
   ]
  },
  {
   "attachments": {},
   "cell_type": "markdown",
   "metadata": {},
   "source": [
    "# Dollar Rate"
   ]
  },
  {
   "cell_type": "code",
   "execution_count": 19,
   "metadata": {},
   "outputs": [
    {
     "data": {
      "text/html": [
       "<div>\n",
       "<style scoped>\n",
       "    .dataframe tbody tr th:only-of-type {\n",
       "        vertical-align: middle;\n",
       "    }\n",
       "\n",
       "    .dataframe tbody tr th {\n",
       "        vertical-align: top;\n",
       "    }\n",
       "\n",
       "    .dataframe thead th {\n",
       "        text-align: right;\n",
       "    }\n",
       "</style>\n",
       "<table border=\"1\" class=\"dataframe\">\n",
       "  <thead>\n",
       "    <tr style=\"text-align: right;\">\n",
       "      <th></th>\n",
       "      <th>end</th>\n",
       "      <th>Date</th>\n",
       "      <th>MahsaAmini</th>\n",
       "      <th>Strikes</th>\n",
       "      <th>Dollar_price</th>\n",
       "    </tr>\n",
       "  </thead>\n",
       "  <tbody>\n",
       "    <tr>\n",
       "      <th>102</th>\n",
       "      <td>2022-12-25</td>\n",
       "      <td>2022-12-24</td>\n",
       "      <td>1246068</td>\n",
       "      <td>193836</td>\n",
       "      <td>40580</td>\n",
       "    </tr>\n",
       "    <tr>\n",
       "      <th>103</th>\n",
       "      <td>2022-12-26</td>\n",
       "      <td>2022-12-25</td>\n",
       "      <td>1031228</td>\n",
       "      <td>142954</td>\n",
       "      <td>41000</td>\n",
       "    </tr>\n",
       "    <tr>\n",
       "      <th>104</th>\n",
       "      <td>2022-12-27</td>\n",
       "      <td>2022-12-26</td>\n",
       "      <td>969262</td>\n",
       "      <td>143484</td>\n",
       "      <td>41520</td>\n",
       "    </tr>\n",
       "    <tr>\n",
       "      <th>105</th>\n",
       "      <td>2022-12-28</td>\n",
       "      <td>2022-12-27</td>\n",
       "      <td>988357</td>\n",
       "      <td>107287</td>\n",
       "      <td>42200</td>\n",
       "    </tr>\n",
       "    <tr>\n",
       "      <th>106</th>\n",
       "      <td>2022-12-28</td>\n",
       "      <td>2022-12-28</td>\n",
       "      <td>1054566</td>\n",
       "      <td>134840</td>\n",
       "      <td>44000</td>\n",
       "    </tr>\n",
       "  </tbody>\n",
       "</table>\n",
       "</div>"
      ],
      "text/plain": [
       "           end       Date  MahsaAmini  Strikes  Dollar_price\n",
       "102 2022-12-25 2022-12-24     1246068   193836         40580\n",
       "103 2022-12-26 2022-12-25     1031228   142954         41000\n",
       "104 2022-12-27 2022-12-26      969262   143484         41520\n",
       "105 2022-12-28 2022-12-27      988357   107287         42200\n",
       "106 2022-12-28 2022-12-28     1054566   134840         44000"
      ]
     },
     "execution_count": 19,
     "metadata": {},
     "output_type": "execute_result"
    }
   ],
   "source": [
    "dfs = pd.read_excel(\"dollar_rate.xlsx\", sheet_name=\"Sheet1\")\n",
    "dfs.columns\n",
    "df['Dollar_price'] = dfs['Rate']\n",
    "df.tail()"
   ]
  },
  {
   "cell_type": "code",
   "execution_count": 22,
   "metadata": {},
   "outputs": [
    {
     "data": {
      "application/vnd.plotly.v1+json": {
       "config": {
        "plotlyServerURL": "https://plot.ly"
       },
       "data": [
        {
         "type": "scatter",
         "x": [
          "2022-09-13T00:00:00",
          "2022-09-14T00:00:00",
          "2022-09-15T00:00:00",
          "2022-09-16T00:00:00",
          "2022-09-17T00:00:00",
          "2022-09-18T00:00:00",
          "2022-09-19T00:00:00",
          "2022-09-20T00:00:00",
          "2022-09-21T00:00:00",
          "2022-09-22T00:00:00",
          "2022-09-23T00:00:00",
          "2022-09-24T00:00:00",
          "2022-09-25T00:00:00",
          "2022-09-26T00:00:00",
          "2022-09-27T00:00:00",
          "2022-09-28T00:00:00",
          "2022-09-29T00:00:00",
          "2022-09-30T00:00:00",
          "2022-10-01T00:00:00",
          "2022-10-02T00:00:00",
          "2022-10-03T00:00:00",
          "2022-10-04T00:00:00",
          "2022-10-05T00:00:00",
          "2022-10-06T00:00:00",
          "2022-10-07T00:00:00",
          "2022-10-08T00:00:00",
          "2022-10-09T00:00:00",
          "2022-10-10T00:00:00",
          "2022-10-11T00:00:00",
          "2022-10-12T00:00:00",
          "2022-10-13T00:00:00",
          "2022-10-14T00:00:00",
          "2022-10-15T00:00:00",
          "2022-10-16T00:00:00",
          "2022-10-17T00:00:00",
          "2022-10-18T00:00:00",
          "2022-10-19T00:00:00",
          "2022-10-20T00:00:00",
          "2022-10-21T00:00:00",
          "2022-10-22T00:00:00",
          "2022-10-23T00:00:00",
          "2022-10-24T00:00:00",
          "2022-10-25T00:00:00",
          "2022-10-26T00:00:00",
          "2022-10-27T00:00:00",
          "2022-10-28T00:00:00",
          "2022-10-29T00:00:00",
          "2022-10-30T00:00:00",
          "2022-10-31T00:00:00",
          "2022-11-01T00:00:00",
          "2022-11-02T00:00:00",
          "2022-11-03T00:00:00",
          "2022-11-04T00:00:00",
          "2022-11-05T00:00:00",
          "2022-11-06T00:00:00",
          "2022-11-07T00:00:00",
          "2022-11-08T00:00:00",
          "2022-11-09T00:00:00",
          "2022-11-10T00:00:00",
          "2022-11-11T00:00:00",
          "2022-11-12T00:00:00",
          "2022-11-13T00:00:00",
          "2022-11-14T00:00:00",
          "2022-11-15T00:00:00",
          "2022-11-16T00:00:00",
          "2022-11-17T00:00:00",
          "2022-11-18T00:00:00",
          "2022-11-19T00:00:00",
          "2022-11-20T00:00:00",
          "2022-11-21T00:00:00",
          "2022-11-22T00:00:00",
          "2022-11-23T00:00:00",
          "2022-11-24T00:00:00",
          "2022-11-25T00:00:00",
          "2022-11-26T00:00:00",
          "2022-11-27T00:00:00",
          "2022-11-28T00:00:00",
          "2022-11-29T00:00:00",
          "2022-11-30T00:00:00",
          "2022-12-01T00:00:00",
          "2022-12-02T00:00:00",
          "2022-12-03T00:00:00",
          "2022-12-04T00:00:00",
          "2022-12-05T00:00:00",
          "2022-12-06T00:00:00",
          "2022-12-07T00:00:00",
          "2022-12-08T00:00:00",
          "2022-12-09T00:00:00",
          "2022-12-10T00:00:00",
          "2022-12-11T00:00:00",
          "2022-12-12T00:00:00",
          "2022-12-13T00:00:00",
          "2022-12-14T00:00:00",
          "2022-12-15T00:00:00",
          "2022-12-16T00:00:00",
          "2022-12-17T00:00:00",
          "2022-12-18T00:00:00",
          "2022-12-19T00:00:00",
          "2022-12-20T00:00:00",
          "2022-12-21T00:00:00",
          "2022-12-22T00:00:00",
          "2022-12-23T00:00:00",
          "2022-12-24T00:00:00",
          "2022-12-25T00:00:00",
          "2022-12-26T00:00:00",
          "2022-12-27T00:00:00",
          "2022-12-28T00:00:00"
         ],
         "xaxis": "x",
         "y": [
          0,
          6228,
          133995,
          489179,
          1108859,
          1447075,
          2370454,
          4376554,
          7497398,
          11281177,
          20236106,
          18806866,
          14524519,
          12209581,
          13624362,
          12145107,
          15062557,
          14732453,
          12110003,
          11644394,
          9278482,
          9452577,
          9929441,
          8677283,
          8181137,
          8756093,
          7272484,
          6932413,
          6501269,
          5591225,
          5937533,
          6172179,
          7300153,
          5627434,
          5080994,
          5312846,
          5078691,
          4925440,
          5308572,
          5155093,
          4142974,
          4348421,
          4740097,
          8105793,
          6740743,
          6029842,
          5978522,
          5275421,
          4686412,
          4614125,
          4775854,
          6017907,
          4896761,
          4404090,
          4379718,
          4076071,
          3925963,
          4027236,
          3651685,
          3597143,
          3502563,
          4239691,
          3862113,
          5901967,
          5577651,
          5376916,
          4782262,
          4536339,
          4734426,
          4543854,
          3525367,
          3061609,
          2989028,
          3403197,
          2754425,
          2676761,
          2404290,
          2882635,
          2606471,
          2383150,
          2445494,
          2064641,
          2335019,
          3003137,
          2329830,
          3260159,
          3126525,
          2432818,
          2100369,
          1703679,
          1976721,
          1437559,
          1411955,
          1428298,
          1344927,
          1394879,
          1452549,
          1643255,
          1286546,
          1114523,
          1046661,
          1153005,
          1246068,
          1031228,
          969262,
          988357,
          1054566
         ],
         "yaxis": "y"
        },
        {
         "type": "scatter",
         "x": [
          "2022-09-13T00:00:00",
          "2022-09-14T00:00:00",
          "2022-09-15T00:00:00",
          "2022-09-16T00:00:00",
          "2022-09-17T00:00:00",
          "2022-09-18T00:00:00",
          "2022-09-19T00:00:00",
          "2022-09-20T00:00:00",
          "2022-09-21T00:00:00",
          "2022-09-22T00:00:00",
          "2022-09-23T00:00:00",
          "2022-09-24T00:00:00",
          "2022-09-25T00:00:00",
          "2022-09-26T00:00:00",
          "2022-09-27T00:00:00",
          "2022-09-28T00:00:00",
          "2022-09-29T00:00:00",
          "2022-09-30T00:00:00",
          "2022-10-01T00:00:00",
          "2022-10-02T00:00:00",
          "2022-10-03T00:00:00",
          "2022-10-04T00:00:00",
          "2022-10-05T00:00:00",
          "2022-10-06T00:00:00",
          "2022-10-07T00:00:00",
          "2022-10-08T00:00:00",
          "2022-10-09T00:00:00",
          "2022-10-10T00:00:00",
          "2022-10-11T00:00:00",
          "2022-10-12T00:00:00",
          "2022-10-13T00:00:00",
          "2022-10-14T00:00:00",
          "2022-10-15T00:00:00",
          "2022-10-16T00:00:00",
          "2022-10-17T00:00:00",
          "2022-10-18T00:00:00",
          "2022-10-19T00:00:00",
          "2022-10-20T00:00:00",
          "2022-10-21T00:00:00",
          "2022-10-22T00:00:00",
          "2022-10-23T00:00:00",
          "2022-10-24T00:00:00",
          "2022-10-25T00:00:00",
          "2022-10-26T00:00:00",
          "2022-10-27T00:00:00",
          "2022-10-28T00:00:00",
          "2022-10-29T00:00:00",
          "2022-10-30T00:00:00",
          "2022-10-31T00:00:00",
          "2022-11-01T00:00:00",
          "2022-11-02T00:00:00",
          "2022-11-03T00:00:00",
          "2022-11-04T00:00:00",
          "2022-11-05T00:00:00",
          "2022-11-06T00:00:00",
          "2022-11-07T00:00:00",
          "2022-11-08T00:00:00",
          "2022-11-09T00:00:00",
          "2022-11-10T00:00:00",
          "2022-11-11T00:00:00",
          "2022-11-12T00:00:00",
          "2022-11-13T00:00:00",
          "2022-11-14T00:00:00",
          "2022-11-15T00:00:00",
          "2022-11-16T00:00:00",
          "2022-11-17T00:00:00",
          "2022-11-18T00:00:00",
          "2022-11-19T00:00:00",
          "2022-11-20T00:00:00",
          "2022-11-21T00:00:00",
          "2022-11-22T00:00:00",
          "2022-11-23T00:00:00",
          "2022-11-24T00:00:00",
          "2022-11-25T00:00:00",
          "2022-11-26T00:00:00",
          "2022-11-27T00:00:00",
          "2022-11-28T00:00:00",
          "2022-11-29T00:00:00",
          "2022-11-30T00:00:00",
          "2022-12-01T00:00:00",
          "2022-12-02T00:00:00",
          "2022-12-03T00:00:00",
          "2022-12-04T00:00:00",
          "2022-12-05T00:00:00",
          "2022-12-06T00:00:00",
          "2022-12-07T00:00:00",
          "2022-12-08T00:00:00",
          "2022-12-09T00:00:00",
          "2022-12-10T00:00:00",
          "2022-12-11T00:00:00",
          "2022-12-12T00:00:00",
          "2022-12-13T00:00:00",
          "2022-12-14T00:00:00",
          "2022-12-15T00:00:00",
          "2022-12-16T00:00:00",
          "2022-12-17T00:00:00",
          "2022-12-18T00:00:00",
          "2022-12-19T00:00:00",
          "2022-12-20T00:00:00",
          "2022-12-21T00:00:00",
          "2022-12-22T00:00:00",
          "2022-12-23T00:00:00",
          "2022-12-24T00:00:00",
          "2022-12-25T00:00:00",
          "2022-12-26T00:00:00",
          "2022-12-27T00:00:00",
          "2022-12-28T00:00:00"
         ],
         "xaxis": "x",
         "y": [
          31700,
          31500,
          31670,
          31670,
          31900,
          31750,
          31800,
          31700,
          31750,
          31760,
          31750,
          31700,
          31650,
          31680,
          31730,
          31830,
          32150,
          32120,
          33180,
          33120,
          33250,
          33230,
          32990,
          32880,
          32850,
          32720,
          32400,
          32580,
          32850,
          32670,
          33000,
          33000,
          32850,
          33100,
          32850,
          32950,
          32800,
          32780,
          32710,
          32840,
          32750,
          32800,
          32890,
          32900,
          33030,
          33080,
          33050,
          33110,
          33320,
          33950,
          34730,
          35000,
          35160,
          36100,
          36240,
          36750,
          36000,
          35650,
          35160,
          35260,
          35080,
          35440,
          35820,
          35820,
          35620,
          35370,
          35200,
          35450,
          35340,
          35470,
          35330,
          35250,
          35320,
          35420,
          35630,
          35950,
          36030,
          35900,
          36170,
          36260,
          36230,
          36170,
          36370,
          36350,
          36190,
          36300,
          36450,
          36730,
          37020,
          37410,
          37950,
          38590,
          38290,
          38500,
          38680,
          39560,
          39380,
          39670,
          39160,
          39600,
          40100,
          40050,
          40580,
          41000,
          41520,
          42200,
          44000
         ],
         "yaxis": "y2"
        },
        {
         "type": "scatter",
         "x": [
          "2022-09-13T00:00:00",
          "2022-09-14T00:00:00",
          "2022-09-15T00:00:00",
          "2022-09-16T00:00:00",
          "2022-09-17T00:00:00",
          "2022-09-18T00:00:00",
          "2022-09-19T00:00:00",
          "2022-09-20T00:00:00",
          "2022-09-21T00:00:00",
          "2022-09-22T00:00:00",
          "2022-09-23T00:00:00",
          "2022-09-24T00:00:00",
          "2022-09-25T00:00:00",
          "2022-09-26T00:00:00",
          "2022-09-27T00:00:00",
          "2022-09-28T00:00:00",
          "2022-09-29T00:00:00",
          "2022-09-30T00:00:00",
          "2022-10-01T00:00:00",
          "2022-10-02T00:00:00",
          "2022-10-03T00:00:00",
          "2022-10-04T00:00:00",
          "2022-10-05T00:00:00",
          "2022-10-06T00:00:00",
          "2022-10-07T00:00:00",
          "2022-10-08T00:00:00",
          "2022-10-09T00:00:00",
          "2022-10-10T00:00:00",
          "2022-10-11T00:00:00",
          "2022-10-12T00:00:00",
          "2022-10-13T00:00:00",
          "2022-10-14T00:00:00",
          "2022-10-15T00:00:00",
          "2022-10-16T00:00:00",
          "2022-10-17T00:00:00",
          "2022-10-18T00:00:00",
          "2022-10-19T00:00:00",
          "2022-10-20T00:00:00",
          "2022-10-21T00:00:00",
          "2022-10-22T00:00:00",
          "2022-10-23T00:00:00",
          "2022-10-24T00:00:00",
          "2022-10-25T00:00:00",
          "2022-10-26T00:00:00",
          "2022-10-27T00:00:00",
          "2022-10-28T00:00:00",
          "2022-10-29T00:00:00",
          "2022-10-30T00:00:00",
          "2022-10-31T00:00:00",
          "2022-11-01T00:00:00",
          "2022-11-02T00:00:00",
          "2022-11-03T00:00:00",
          "2022-11-04T00:00:00",
          "2022-11-05T00:00:00",
          "2022-11-06T00:00:00",
          "2022-11-07T00:00:00",
          "2022-11-08T00:00:00",
          "2022-11-09T00:00:00",
          "2022-11-10T00:00:00",
          "2022-11-11T00:00:00",
          "2022-11-12T00:00:00",
          "2022-11-13T00:00:00",
          "2022-11-14T00:00:00",
          "2022-11-15T00:00:00",
          "2022-11-16T00:00:00",
          "2022-11-17T00:00:00",
          "2022-11-18T00:00:00",
          "2022-11-19T00:00:00",
          "2022-11-20T00:00:00",
          "2022-11-21T00:00:00",
          "2022-11-22T00:00:00",
          "2022-11-23T00:00:00",
          "2022-11-24T00:00:00",
          "2022-11-25T00:00:00",
          "2022-11-26T00:00:00",
          "2022-11-27T00:00:00",
          "2022-11-28T00:00:00",
          "2022-11-29T00:00:00",
          "2022-11-30T00:00:00",
          "2022-12-01T00:00:00",
          "2022-12-02T00:00:00",
          "2022-12-03T00:00:00",
          "2022-12-04T00:00:00",
          "2022-12-05T00:00:00",
          "2022-12-06T00:00:00",
          "2022-12-07T00:00:00",
          "2022-12-08T00:00:00",
          "2022-12-09T00:00:00",
          "2022-12-10T00:00:00",
          "2022-12-11T00:00:00",
          "2022-12-12T00:00:00",
          "2022-12-13T00:00:00",
          "2022-12-14T00:00:00",
          "2022-12-15T00:00:00",
          "2022-12-16T00:00:00",
          "2022-12-17T00:00:00",
          "2022-12-18T00:00:00",
          "2022-12-19T00:00:00",
          "2022-12-20T00:00:00",
          "2022-12-21T00:00:00",
          "2022-12-22T00:00:00",
          "2022-12-23T00:00:00",
          "2022-12-24T00:00:00",
          "2022-12-25T00:00:00",
          "2022-12-26T00:00:00",
          "2022-12-27T00:00:00",
          "2022-12-28T00:00:00"
         ],
         "xaxis": "x",
         "y": [
          108,
          61,
          91,
          373,
          2501,
          2460,
          5899,
          6024,
          5670,
          9419,
          11340,
          141285,
          953545,
          2985905,
          5791681,
          5817471,
          6602520,
          5386705,
          3627354,
          2908708,
          2273256,
          2174755,
          1690454,
          1152901,
          1143740,
          1236457,
          1090219,
          1243047,
          1239402,
          1005565,
          997247,
          1022897,
          780822,
          753508,
          1282686,
          2098571,
          1707649,
          1527937,
          1622156,
          1416858,
          1122616,
          1310376,
          1553353,
          2197931,
          1702382,
          1502023,
          1350779,
          1142139,
          1009104,
          1146045,
          1211891,
          1395553,
          1132545,
          1111913,
          1219466,
          1029277,
          1048978,
          966972,
          744373,
          718987,
          758287,
          802690,
          736681,
          1652982,
          1516051,
          1183931,
          896243,
          906721,
          708710,
          559055,
          698446,
          634077,
          593108,
          501837,
          823458,
          856085,
          830077,
          783680,
          615325,
          600075,
          567560,
          574816,
          674263,
          1301388,
          870053,
          896242,
          450369,
          304334,
          293559,
          338822,
          350991,
          314807,
          283567,
          252795,
          243871,
          366289,
          302520,
          423946,
          264141,
          228834,
          173177,
          167647,
          193836,
          142954,
          143484,
          107287,
          134840
         ],
         "yaxis": "y"
        }
       ],
       "layout": {
        "annotations": [
         {
          "arrowhead": 2,
          "font": {
           "family": "B nazanin",
           "size": 14
          },
          "showarrow": true,
          "text": "<b>: 23 مهر<br> آتش سوزی زندان اوین <b>",
          "x": "2022-10-15T00:00:00",
          "xshift": 0,
          "y": 7400153,
          "yshift": 0
         },
         {
          "arrowhead": 2,
          "font": {
           "family": "B nazanin",
           "size": 14
          },
          "showarrow": true,
          "text": "<b>: 22 شهریور<br> دستگیری مهسا امینی <b>",
          "x": "2022-09-13T00:00:00",
          "xshift": 0,
          "y": 100000,
          "yshift": 0
         },
         {
          "arrowhead": 2,
          "font": {
           "family": "B nazanin",
           "size": 14
          },
          "showarrow": true,
          "text": "<b>: 25 شهریور<br> کشته شدن مهسا امینی <b>",
          "x": "2022-09-16T00:00:00",
          "xshift": 10,
          "y": 589179,
          "yshift": 30
         },
         {
          "arrowhead": 2,
          "font": {
           "family": "B nazanin",
           "size": 14
          },
          "showarrow": true,
          "text": "<b>: 1 مهر<br> آغاز تظاهرات سراسری <br> اشنویه <b>",
          "x": "2022-09-23T00:00:00",
          "xshift": 0,
          "y": 20336106,
          "yshift": 0
         },
         {
          "arrowhead": 2,
          "font": {
           "family": "B nazanin",
           "size": 14
          },
          "showarrow": true,
          "text": "<b>: 7 مهر<br> جمعه خونین <b>",
          "x": "2022-09-30T00:00:00",
          "xshift": 0,
          "y": 14832453,
          "yshift": 0
         },
         {
          "arrowhead": 2,
          "font": {
           "family": "B nazanin",
           "size": 12
          },
          "showarrow": true,
          "text": "<b>: 10 مهر<br> حمله به دانشگاه شریف <b>",
          "x": "2022-10-02T00:00:00",
          "xshift": 0,
          "y": 11744394,
          "yshift": -5
         },
         {
          "arrowhead": 2,
          "font": {
           "family": "B nazanin",
           "size": 12
          },
          "showarrow": true,
          "text": "<b>: 30 مهر<br> تظاهرات برلین <b>",
          "x": "2022-10-22T00:00:00",
          "xshift": 0,
          "y": 5255093,
          "yshift": 0
         },
         {
          "arrowhead": 2,
          "font": {
           "family": "B nazanin",
           "size": 14
          },
          "showarrow": true,
          "text": "<b>: 4 آبان<br> چهلم مهسا امینی <br> شاهچراغ <b>",
          "x": "2022-10-26T00:00:00",
          "xshift": 0,
          "y": 8205793,
          "yshift": 10
         },
         {
          "arrowhead": 2,
          "font": {
           "family": "B nazanin",
           "size": 14
          },
          "showarrow": true,
          "text": "<b>: 12 آبان<br> چهلم حدیث نجفی<b>",
          "x": "2022-11-03T00:00:00",
          "xshift": 0,
          "y": 6117907,
          "yshift": 10
         },
         {
          "arrowhead": 2,
          "font": {
           "family": "B nazanin",
           "size": 14
          },
          "showarrow": true,
          "text": "<b>: 24 آبان<br> اعتصاب 24و25و26<b>",
          "x": "2022-11-15T00:00:00",
          "xshift": 0,
          "y": 6001967,
          "yshift": 10
         },
         {
          "arrowhead": 2,
          "font": {
           "family": "B nazanin",
           "size": 14
          },
          "showarrow": true,
          "text": "<b>: 14 آذر<br> اعتصاب 14و15و16<b>",
          "x": "2022-12-05T00:00:00",
          "xshift": 0,
          "y": 3103137,
          "yshift": 12
         },
         {
          "arrowhead": 2,
          "font": {
           "family": "B nazanin",
           "size": 12
          },
          "showarrow": false,
          "text": "<b>: 17 آذر<br> اعدام محسن شکاری<b>",
          "x": "2022-12-08T00:00:00",
          "xshift": 0,
          "y": 3226525,
          "yshift": 0
         }
        ],
        "font": {
         "family": "sans-serif"
        },
        "legend": {
         "title": {
          "text": "Hashtags"
         }
        },
        "template": {
         "data": {
          "bar": [
           {
            "error_x": {
             "color": "#2a3f5f"
            },
            "error_y": {
             "color": "#2a3f5f"
            },
            "marker": {
             "line": {
              "color": "#E5ECF6",
              "width": 0.5
             },
             "pattern": {
              "fillmode": "overlay",
              "size": 10,
              "solidity": 0.2
             }
            },
            "type": "bar"
           }
          ],
          "barpolar": [
           {
            "marker": {
             "line": {
              "color": "#E5ECF6",
              "width": 0.5
             },
             "pattern": {
              "fillmode": "overlay",
              "size": 10,
              "solidity": 0.2
             }
            },
            "type": "barpolar"
           }
          ],
          "carpet": [
           {
            "aaxis": {
             "endlinecolor": "#2a3f5f",
             "gridcolor": "white",
             "linecolor": "white",
             "minorgridcolor": "white",
             "startlinecolor": "#2a3f5f"
            },
            "baxis": {
             "endlinecolor": "#2a3f5f",
             "gridcolor": "white",
             "linecolor": "white",
             "minorgridcolor": "white",
             "startlinecolor": "#2a3f5f"
            },
            "type": "carpet"
           }
          ],
          "choropleth": [
           {
            "colorbar": {
             "outlinewidth": 0,
             "ticks": ""
            },
            "type": "choropleth"
           }
          ],
          "contour": [
           {
            "colorbar": {
             "outlinewidth": 0,
             "ticks": ""
            },
            "colorscale": [
             [
              0,
              "#0d0887"
             ],
             [
              0.1111111111111111,
              "#46039f"
             ],
             [
              0.2222222222222222,
              "#7201a8"
             ],
             [
              0.3333333333333333,
              "#9c179e"
             ],
             [
              0.4444444444444444,
              "#bd3786"
             ],
             [
              0.5555555555555556,
              "#d8576b"
             ],
             [
              0.6666666666666666,
              "#ed7953"
             ],
             [
              0.7777777777777778,
              "#fb9f3a"
             ],
             [
              0.8888888888888888,
              "#fdca26"
             ],
             [
              1,
              "#f0f921"
             ]
            ],
            "type": "contour"
           }
          ],
          "contourcarpet": [
           {
            "colorbar": {
             "outlinewidth": 0,
             "ticks": ""
            },
            "type": "contourcarpet"
           }
          ],
          "heatmap": [
           {
            "colorbar": {
             "outlinewidth": 0,
             "ticks": ""
            },
            "colorscale": [
             [
              0,
              "#0d0887"
             ],
             [
              0.1111111111111111,
              "#46039f"
             ],
             [
              0.2222222222222222,
              "#7201a8"
             ],
             [
              0.3333333333333333,
              "#9c179e"
             ],
             [
              0.4444444444444444,
              "#bd3786"
             ],
             [
              0.5555555555555556,
              "#d8576b"
             ],
             [
              0.6666666666666666,
              "#ed7953"
             ],
             [
              0.7777777777777778,
              "#fb9f3a"
             ],
             [
              0.8888888888888888,
              "#fdca26"
             ],
             [
              1,
              "#f0f921"
             ]
            ],
            "type": "heatmap"
           }
          ],
          "heatmapgl": [
           {
            "colorbar": {
             "outlinewidth": 0,
             "ticks": ""
            },
            "colorscale": [
             [
              0,
              "#0d0887"
             ],
             [
              0.1111111111111111,
              "#46039f"
             ],
             [
              0.2222222222222222,
              "#7201a8"
             ],
             [
              0.3333333333333333,
              "#9c179e"
             ],
             [
              0.4444444444444444,
              "#bd3786"
             ],
             [
              0.5555555555555556,
              "#d8576b"
             ],
             [
              0.6666666666666666,
              "#ed7953"
             ],
             [
              0.7777777777777778,
              "#fb9f3a"
             ],
             [
              0.8888888888888888,
              "#fdca26"
             ],
             [
              1,
              "#f0f921"
             ]
            ],
            "type": "heatmapgl"
           }
          ],
          "histogram": [
           {
            "marker": {
             "pattern": {
              "fillmode": "overlay",
              "size": 10,
              "solidity": 0.2
             }
            },
            "type": "histogram"
           }
          ],
          "histogram2d": [
           {
            "colorbar": {
             "outlinewidth": 0,
             "ticks": ""
            },
            "colorscale": [
             [
              0,
              "#0d0887"
             ],
             [
              0.1111111111111111,
              "#46039f"
             ],
             [
              0.2222222222222222,
              "#7201a8"
             ],
             [
              0.3333333333333333,
              "#9c179e"
             ],
             [
              0.4444444444444444,
              "#bd3786"
             ],
             [
              0.5555555555555556,
              "#d8576b"
             ],
             [
              0.6666666666666666,
              "#ed7953"
             ],
             [
              0.7777777777777778,
              "#fb9f3a"
             ],
             [
              0.8888888888888888,
              "#fdca26"
             ],
             [
              1,
              "#f0f921"
             ]
            ],
            "type": "histogram2d"
           }
          ],
          "histogram2dcontour": [
           {
            "colorbar": {
             "outlinewidth": 0,
             "ticks": ""
            },
            "colorscale": [
             [
              0,
              "#0d0887"
             ],
             [
              0.1111111111111111,
              "#46039f"
             ],
             [
              0.2222222222222222,
              "#7201a8"
             ],
             [
              0.3333333333333333,
              "#9c179e"
             ],
             [
              0.4444444444444444,
              "#bd3786"
             ],
             [
              0.5555555555555556,
              "#d8576b"
             ],
             [
              0.6666666666666666,
              "#ed7953"
             ],
             [
              0.7777777777777778,
              "#fb9f3a"
             ],
             [
              0.8888888888888888,
              "#fdca26"
             ],
             [
              1,
              "#f0f921"
             ]
            ],
            "type": "histogram2dcontour"
           }
          ],
          "mesh3d": [
           {
            "colorbar": {
             "outlinewidth": 0,
             "ticks": ""
            },
            "type": "mesh3d"
           }
          ],
          "parcoords": [
           {
            "line": {
             "colorbar": {
              "outlinewidth": 0,
              "ticks": ""
             }
            },
            "type": "parcoords"
           }
          ],
          "pie": [
           {
            "automargin": true,
            "type": "pie"
           }
          ],
          "scatter": [
           {
            "fillpattern": {
             "fillmode": "overlay",
             "size": 10,
             "solidity": 0.2
            },
            "type": "scatter"
           }
          ],
          "scatter3d": [
           {
            "line": {
             "colorbar": {
              "outlinewidth": 0,
              "ticks": ""
             }
            },
            "marker": {
             "colorbar": {
              "outlinewidth": 0,
              "ticks": ""
             }
            },
            "type": "scatter3d"
           }
          ],
          "scattercarpet": [
           {
            "marker": {
             "colorbar": {
              "outlinewidth": 0,
              "ticks": ""
             }
            },
            "type": "scattercarpet"
           }
          ],
          "scattergeo": [
           {
            "marker": {
             "colorbar": {
              "outlinewidth": 0,
              "ticks": ""
             }
            },
            "type": "scattergeo"
           }
          ],
          "scattergl": [
           {
            "marker": {
             "colorbar": {
              "outlinewidth": 0,
              "ticks": ""
             }
            },
            "type": "scattergl"
           }
          ],
          "scattermapbox": [
           {
            "marker": {
             "colorbar": {
              "outlinewidth": 0,
              "ticks": ""
             }
            },
            "type": "scattermapbox"
           }
          ],
          "scatterpolar": [
           {
            "marker": {
             "colorbar": {
              "outlinewidth": 0,
              "ticks": ""
             }
            },
            "type": "scatterpolar"
           }
          ],
          "scatterpolargl": [
           {
            "marker": {
             "colorbar": {
              "outlinewidth": 0,
              "ticks": ""
             }
            },
            "type": "scatterpolargl"
           }
          ],
          "scatterternary": [
           {
            "marker": {
             "colorbar": {
              "outlinewidth": 0,
              "ticks": ""
             }
            },
            "type": "scatterternary"
           }
          ],
          "surface": [
           {
            "colorbar": {
             "outlinewidth": 0,
             "ticks": ""
            },
            "colorscale": [
             [
              0,
              "#0d0887"
             ],
             [
              0.1111111111111111,
              "#46039f"
             ],
             [
              0.2222222222222222,
              "#7201a8"
             ],
             [
              0.3333333333333333,
              "#9c179e"
             ],
             [
              0.4444444444444444,
              "#bd3786"
             ],
             [
              0.5555555555555556,
              "#d8576b"
             ],
             [
              0.6666666666666666,
              "#ed7953"
             ],
             [
              0.7777777777777778,
              "#fb9f3a"
             ],
             [
              0.8888888888888888,
              "#fdca26"
             ],
             [
              1,
              "#f0f921"
             ]
            ],
            "type": "surface"
           }
          ],
          "table": [
           {
            "cells": {
             "fill": {
              "color": "#EBF0F8"
             },
             "line": {
              "color": "white"
             }
            },
            "header": {
             "fill": {
              "color": "#C8D4E3"
             },
             "line": {
              "color": "white"
             }
            },
            "type": "table"
           }
          ]
         },
         "layout": {
          "annotationdefaults": {
           "arrowcolor": "#2a3f5f",
           "arrowhead": 0,
           "arrowwidth": 1
          },
          "autotypenumbers": "strict",
          "coloraxis": {
           "colorbar": {
            "outlinewidth": 0,
            "ticks": ""
           }
          },
          "colorscale": {
           "diverging": [
            [
             0,
             "#8e0152"
            ],
            [
             0.1,
             "#c51b7d"
            ],
            [
             0.2,
             "#de77ae"
            ],
            [
             0.3,
             "#f1b6da"
            ],
            [
             0.4,
             "#fde0ef"
            ],
            [
             0.5,
             "#f7f7f7"
            ],
            [
             0.6,
             "#e6f5d0"
            ],
            [
             0.7,
             "#b8e186"
            ],
            [
             0.8,
             "#7fbc41"
            ],
            [
             0.9,
             "#4d9221"
            ],
            [
             1,
             "#276419"
            ]
           ],
           "sequential": [
            [
             0,
             "#0d0887"
            ],
            [
             0.1111111111111111,
             "#46039f"
            ],
            [
             0.2222222222222222,
             "#7201a8"
            ],
            [
             0.3333333333333333,
             "#9c179e"
            ],
            [
             0.4444444444444444,
             "#bd3786"
            ],
            [
             0.5555555555555556,
             "#d8576b"
            ],
            [
             0.6666666666666666,
             "#ed7953"
            ],
            [
             0.7777777777777778,
             "#fb9f3a"
            ],
            [
             0.8888888888888888,
             "#fdca26"
            ],
            [
             1,
             "#f0f921"
            ]
           ],
           "sequentialminus": [
            [
             0,
             "#0d0887"
            ],
            [
             0.1111111111111111,
             "#46039f"
            ],
            [
             0.2222222222222222,
             "#7201a8"
            ],
            [
             0.3333333333333333,
             "#9c179e"
            ],
            [
             0.4444444444444444,
             "#bd3786"
            ],
            [
             0.5555555555555556,
             "#d8576b"
            ],
            [
             0.6666666666666666,
             "#ed7953"
            ],
            [
             0.7777777777777778,
             "#fb9f3a"
            ],
            [
             0.8888888888888888,
             "#fdca26"
            ],
            [
             1,
             "#f0f921"
            ]
           ]
          },
          "colorway": [
           "#636efa",
           "#EF553B",
           "#00cc96",
           "#ab63fa",
           "#FFA15A",
           "#19d3f3",
           "#FF6692",
           "#B6E880",
           "#FF97FF",
           "#FECB52"
          ],
          "font": {
           "color": "#2a3f5f"
          },
          "geo": {
           "bgcolor": "white",
           "lakecolor": "white",
           "landcolor": "#E5ECF6",
           "showlakes": true,
           "showland": true,
           "subunitcolor": "white"
          },
          "hoverlabel": {
           "align": "left"
          },
          "hovermode": "closest",
          "mapbox": {
           "style": "light"
          },
          "paper_bgcolor": "white",
          "plot_bgcolor": "#E5ECF6",
          "polar": {
           "angularaxis": {
            "gridcolor": "white",
            "linecolor": "white",
            "ticks": ""
           },
           "bgcolor": "#E5ECF6",
           "radialaxis": {
            "gridcolor": "white",
            "linecolor": "white",
            "ticks": ""
           }
          },
          "scene": {
           "xaxis": {
            "backgroundcolor": "#E5ECF6",
            "gridcolor": "white",
            "gridwidth": 2,
            "linecolor": "white",
            "showbackground": true,
            "ticks": "",
            "zerolinecolor": "white"
           },
           "yaxis": {
            "backgroundcolor": "#E5ECF6",
            "gridcolor": "white",
            "gridwidth": 2,
            "linecolor": "white",
            "showbackground": true,
            "ticks": "",
            "zerolinecolor": "white"
           },
           "zaxis": {
            "backgroundcolor": "#E5ECF6",
            "gridcolor": "white",
            "gridwidth": 2,
            "linecolor": "white",
            "showbackground": true,
            "ticks": "",
            "zerolinecolor": "white"
           }
          },
          "shapedefaults": {
           "line": {
            "color": "#2a3f5f"
           }
          },
          "ternary": {
           "aaxis": {
            "gridcolor": "white",
            "linecolor": "white",
            "ticks": ""
           },
           "baxis": {
            "gridcolor": "white",
            "linecolor": "white",
            "ticks": ""
           },
           "bgcolor": "#E5ECF6",
           "caxis": {
            "gridcolor": "white",
            "linecolor": "white",
            "ticks": ""
           }
          },
          "title": {
           "x": 0.05
          },
          "xaxis": {
           "automargin": true,
           "gridcolor": "white",
           "linecolor": "white",
           "ticks": "",
           "title": {
            "standoff": 15
           },
           "zerolinecolor": "white",
           "zerolinewidth": 2
          },
          "yaxis": {
           "automargin": true,
           "gridcolor": "white",
           "linecolor": "white",
           "ticks": "",
           "title": {
            "standoff": 15
           },
           "zerolinecolor": "white",
           "zerolinewidth": 2
          }
         }
        },
        "title": {
         "text": "Trend of hashtags in Iran Revolution 2022",
         "x": 0.5,
         "xanchor": "center",
         "y": 0.9,
         "yanchor": "top"
        },
        "xaxis": {
         "anchor": "y",
         "domain": [
          0,
          0.94
         ],
         "title": {
          "text": "Date"
         }
        },
        "yaxis": {
         "anchor": "x",
         "domain": [
          0,
          1
         ],
         "title": {
          "text": "Number of Tweets"
         }
        },
        "yaxis2": {
         "anchor": "x",
         "overlaying": "y",
         "side": "right"
        }
       }
      },
      "text/html": [
       "<div>                            <div id=\"5a9e0184-daed-4e5e-a140-722b32d5070f\" class=\"plotly-graph-div\" style=\"height:525px; width:100%;\"></div>            <script type=\"text/javascript\">                require([\"plotly\"], function(Plotly) {                    window.PLOTLYENV=window.PLOTLYENV || {};                                    if (document.getElementById(\"5a9e0184-daed-4e5e-a140-722b32d5070f\")) {                    Plotly.newPlot(                        \"5a9e0184-daed-4e5e-a140-722b32d5070f\",                        [{\"x\":[\"2022-09-13T00:00:00\",\"2022-09-14T00:00:00\",\"2022-09-15T00:00:00\",\"2022-09-16T00:00:00\",\"2022-09-17T00:00:00\",\"2022-09-18T00:00:00\",\"2022-09-19T00:00:00\",\"2022-09-20T00:00:00\",\"2022-09-21T00:00:00\",\"2022-09-22T00:00:00\",\"2022-09-23T00:00:00\",\"2022-09-24T00:00:00\",\"2022-09-25T00:00:00\",\"2022-09-26T00:00:00\",\"2022-09-27T00:00:00\",\"2022-09-28T00:00:00\",\"2022-09-29T00:00:00\",\"2022-09-30T00:00:00\",\"2022-10-01T00:00:00\",\"2022-10-02T00:00:00\",\"2022-10-03T00:00:00\",\"2022-10-04T00:00:00\",\"2022-10-05T00:00:00\",\"2022-10-06T00:00:00\",\"2022-10-07T00:00:00\",\"2022-10-08T00:00:00\",\"2022-10-09T00:00:00\",\"2022-10-10T00:00:00\",\"2022-10-11T00:00:00\",\"2022-10-12T00:00:00\",\"2022-10-13T00:00:00\",\"2022-10-14T00:00:00\",\"2022-10-15T00:00:00\",\"2022-10-16T00:00:00\",\"2022-10-17T00:00:00\",\"2022-10-18T00:00:00\",\"2022-10-19T00:00:00\",\"2022-10-20T00:00:00\",\"2022-10-21T00:00:00\",\"2022-10-22T00:00:00\",\"2022-10-23T00:00:00\",\"2022-10-24T00:00:00\",\"2022-10-25T00:00:00\",\"2022-10-26T00:00:00\",\"2022-10-27T00:00:00\",\"2022-10-28T00:00:00\",\"2022-10-29T00:00:00\",\"2022-10-30T00:00:00\",\"2022-10-31T00:00:00\",\"2022-11-01T00:00:00\",\"2022-11-02T00:00:00\",\"2022-11-03T00:00:00\",\"2022-11-04T00:00:00\",\"2022-11-05T00:00:00\",\"2022-11-06T00:00:00\",\"2022-11-07T00:00:00\",\"2022-11-08T00:00:00\",\"2022-11-09T00:00:00\",\"2022-11-10T00:00:00\",\"2022-11-11T00:00:00\",\"2022-11-12T00:00:00\",\"2022-11-13T00:00:00\",\"2022-11-14T00:00:00\",\"2022-11-15T00:00:00\",\"2022-11-16T00:00:00\",\"2022-11-17T00:00:00\",\"2022-11-18T00:00:00\",\"2022-11-19T00:00:00\",\"2022-11-20T00:00:00\",\"2022-11-21T00:00:00\",\"2022-11-22T00:00:00\",\"2022-11-23T00:00:00\",\"2022-11-24T00:00:00\",\"2022-11-25T00:00:00\",\"2022-11-26T00:00:00\",\"2022-11-27T00:00:00\",\"2022-11-28T00:00:00\",\"2022-11-29T00:00:00\",\"2022-11-30T00:00:00\",\"2022-12-01T00:00:00\",\"2022-12-02T00:00:00\",\"2022-12-03T00:00:00\",\"2022-12-04T00:00:00\",\"2022-12-05T00:00:00\",\"2022-12-06T00:00:00\",\"2022-12-07T00:00:00\",\"2022-12-08T00:00:00\",\"2022-12-09T00:00:00\",\"2022-12-10T00:00:00\",\"2022-12-11T00:00:00\",\"2022-12-12T00:00:00\",\"2022-12-13T00:00:00\",\"2022-12-14T00:00:00\",\"2022-12-15T00:00:00\",\"2022-12-16T00:00:00\",\"2022-12-17T00:00:00\",\"2022-12-18T00:00:00\",\"2022-12-19T00:00:00\",\"2022-12-20T00:00:00\",\"2022-12-21T00:00:00\",\"2022-12-22T00:00:00\",\"2022-12-23T00:00:00\",\"2022-12-24T00:00:00\",\"2022-12-25T00:00:00\",\"2022-12-26T00:00:00\",\"2022-12-27T00:00:00\",\"2022-12-28T00:00:00\"],\"y\":[0,6228,133995,489179,1108859,1447075,2370454,4376554,7497398,11281177,20236106,18806866,14524519,12209581,13624362,12145107,15062557,14732453,12110003,11644394,9278482,9452577,9929441,8677283,8181137,8756093,7272484,6932413,6501269,5591225,5937533,6172179,7300153,5627434,5080994,5312846,5078691,4925440,5308572,5155093,4142974,4348421,4740097,8105793,6740743,6029842,5978522,5275421,4686412,4614125,4775854,6017907,4896761,4404090,4379718,4076071,3925963,4027236,3651685,3597143,3502563,4239691,3862113,5901967,5577651,5376916,4782262,4536339,4734426,4543854,3525367,3061609,2989028,3403197,2754425,2676761,2404290,2882635,2606471,2383150,2445494,2064641,2335019,3003137,2329830,3260159,3126525,2432818,2100369,1703679,1976721,1437559,1411955,1428298,1344927,1394879,1452549,1643255,1286546,1114523,1046661,1153005,1246068,1031228,969262,988357,1054566],\"type\":\"scatter\",\"xaxis\":\"x\",\"yaxis\":\"y\"},{\"x\":[\"2022-09-13T00:00:00\",\"2022-09-14T00:00:00\",\"2022-09-15T00:00:00\",\"2022-09-16T00:00:00\",\"2022-09-17T00:00:00\",\"2022-09-18T00:00:00\",\"2022-09-19T00:00:00\",\"2022-09-20T00:00:00\",\"2022-09-21T00:00:00\",\"2022-09-22T00:00:00\",\"2022-09-23T00:00:00\",\"2022-09-24T00:00:00\",\"2022-09-25T00:00:00\",\"2022-09-26T00:00:00\",\"2022-09-27T00:00:00\",\"2022-09-28T00:00:00\",\"2022-09-29T00:00:00\",\"2022-09-30T00:00:00\",\"2022-10-01T00:00:00\",\"2022-10-02T00:00:00\",\"2022-10-03T00:00:00\",\"2022-10-04T00:00:00\",\"2022-10-05T00:00:00\",\"2022-10-06T00:00:00\",\"2022-10-07T00:00:00\",\"2022-10-08T00:00:00\",\"2022-10-09T00:00:00\",\"2022-10-10T00:00:00\",\"2022-10-11T00:00:00\",\"2022-10-12T00:00:00\",\"2022-10-13T00:00:00\",\"2022-10-14T00:00:00\",\"2022-10-15T00:00:00\",\"2022-10-16T00:00:00\",\"2022-10-17T00:00:00\",\"2022-10-18T00:00:00\",\"2022-10-19T00:00:00\",\"2022-10-20T00:00:00\",\"2022-10-21T00:00:00\",\"2022-10-22T00:00:00\",\"2022-10-23T00:00:00\",\"2022-10-24T00:00:00\",\"2022-10-25T00:00:00\",\"2022-10-26T00:00:00\",\"2022-10-27T00:00:00\",\"2022-10-28T00:00:00\",\"2022-10-29T00:00:00\",\"2022-10-30T00:00:00\",\"2022-10-31T00:00:00\",\"2022-11-01T00:00:00\",\"2022-11-02T00:00:00\",\"2022-11-03T00:00:00\",\"2022-11-04T00:00:00\",\"2022-11-05T00:00:00\",\"2022-11-06T00:00:00\",\"2022-11-07T00:00:00\",\"2022-11-08T00:00:00\",\"2022-11-09T00:00:00\",\"2022-11-10T00:00:00\",\"2022-11-11T00:00:00\",\"2022-11-12T00:00:00\",\"2022-11-13T00:00:00\",\"2022-11-14T00:00:00\",\"2022-11-15T00:00:00\",\"2022-11-16T00:00:00\",\"2022-11-17T00:00:00\",\"2022-11-18T00:00:00\",\"2022-11-19T00:00:00\",\"2022-11-20T00:00:00\",\"2022-11-21T00:00:00\",\"2022-11-22T00:00:00\",\"2022-11-23T00:00:00\",\"2022-11-24T00:00:00\",\"2022-11-25T00:00:00\",\"2022-11-26T00:00:00\",\"2022-11-27T00:00:00\",\"2022-11-28T00:00:00\",\"2022-11-29T00:00:00\",\"2022-11-30T00:00:00\",\"2022-12-01T00:00:00\",\"2022-12-02T00:00:00\",\"2022-12-03T00:00:00\",\"2022-12-04T00:00:00\",\"2022-12-05T00:00:00\",\"2022-12-06T00:00:00\",\"2022-12-07T00:00:00\",\"2022-12-08T00:00:00\",\"2022-12-09T00:00:00\",\"2022-12-10T00:00:00\",\"2022-12-11T00:00:00\",\"2022-12-12T00:00:00\",\"2022-12-13T00:00:00\",\"2022-12-14T00:00:00\",\"2022-12-15T00:00:00\",\"2022-12-16T00:00:00\",\"2022-12-17T00:00:00\",\"2022-12-18T00:00:00\",\"2022-12-19T00:00:00\",\"2022-12-20T00:00:00\",\"2022-12-21T00:00:00\",\"2022-12-22T00:00:00\",\"2022-12-23T00:00:00\",\"2022-12-24T00:00:00\",\"2022-12-25T00:00:00\",\"2022-12-26T00:00:00\",\"2022-12-27T00:00:00\",\"2022-12-28T00:00:00\"],\"y\":[31700,31500,31670,31670,31900,31750,31800,31700,31750,31760,31750,31700,31650,31680,31730,31830,32150,32120,33180,33120,33250,33230,32990,32880,32850,32720,32400,32580,32850,32670,33000,33000,32850,33100,32850,32950,32800,32780,32710,32840,32750,32800,32890,32900,33030,33080,33050,33110,33320,33950,34730,35000,35160,36100,36240,36750,36000,35650,35160,35260,35080,35440,35820,35820,35620,35370,35200,35450,35340,35470,35330,35250,35320,35420,35630,35950,36030,35900,36170,36260,36230,36170,36370,36350,36190,36300,36450,36730,37020,37410,37950,38590,38290,38500,38680,39560,39380,39670,39160,39600,40100,40050,40580,41000,41520,42200,44000],\"type\":\"scatter\",\"xaxis\":\"x\",\"yaxis\":\"y2\"},{\"x\":[\"2022-09-13T00:00:00\",\"2022-09-14T00:00:00\",\"2022-09-15T00:00:00\",\"2022-09-16T00:00:00\",\"2022-09-17T00:00:00\",\"2022-09-18T00:00:00\",\"2022-09-19T00:00:00\",\"2022-09-20T00:00:00\",\"2022-09-21T00:00:00\",\"2022-09-22T00:00:00\",\"2022-09-23T00:00:00\",\"2022-09-24T00:00:00\",\"2022-09-25T00:00:00\",\"2022-09-26T00:00:00\",\"2022-09-27T00:00:00\",\"2022-09-28T00:00:00\",\"2022-09-29T00:00:00\",\"2022-09-30T00:00:00\",\"2022-10-01T00:00:00\",\"2022-10-02T00:00:00\",\"2022-10-03T00:00:00\",\"2022-10-04T00:00:00\",\"2022-10-05T00:00:00\",\"2022-10-06T00:00:00\",\"2022-10-07T00:00:00\",\"2022-10-08T00:00:00\",\"2022-10-09T00:00:00\",\"2022-10-10T00:00:00\",\"2022-10-11T00:00:00\",\"2022-10-12T00:00:00\",\"2022-10-13T00:00:00\",\"2022-10-14T00:00:00\",\"2022-10-15T00:00:00\",\"2022-10-16T00:00:00\",\"2022-10-17T00:00:00\",\"2022-10-18T00:00:00\",\"2022-10-19T00:00:00\",\"2022-10-20T00:00:00\",\"2022-10-21T00:00:00\",\"2022-10-22T00:00:00\",\"2022-10-23T00:00:00\",\"2022-10-24T00:00:00\",\"2022-10-25T00:00:00\",\"2022-10-26T00:00:00\",\"2022-10-27T00:00:00\",\"2022-10-28T00:00:00\",\"2022-10-29T00:00:00\",\"2022-10-30T00:00:00\",\"2022-10-31T00:00:00\",\"2022-11-01T00:00:00\",\"2022-11-02T00:00:00\",\"2022-11-03T00:00:00\",\"2022-11-04T00:00:00\",\"2022-11-05T00:00:00\",\"2022-11-06T00:00:00\",\"2022-11-07T00:00:00\",\"2022-11-08T00:00:00\",\"2022-11-09T00:00:00\",\"2022-11-10T00:00:00\",\"2022-11-11T00:00:00\",\"2022-11-12T00:00:00\",\"2022-11-13T00:00:00\",\"2022-11-14T00:00:00\",\"2022-11-15T00:00:00\",\"2022-11-16T00:00:00\",\"2022-11-17T00:00:00\",\"2022-11-18T00:00:00\",\"2022-11-19T00:00:00\",\"2022-11-20T00:00:00\",\"2022-11-21T00:00:00\",\"2022-11-22T00:00:00\",\"2022-11-23T00:00:00\",\"2022-11-24T00:00:00\",\"2022-11-25T00:00:00\",\"2022-11-26T00:00:00\",\"2022-11-27T00:00:00\",\"2022-11-28T00:00:00\",\"2022-11-29T00:00:00\",\"2022-11-30T00:00:00\",\"2022-12-01T00:00:00\",\"2022-12-02T00:00:00\",\"2022-12-03T00:00:00\",\"2022-12-04T00:00:00\",\"2022-12-05T00:00:00\",\"2022-12-06T00:00:00\",\"2022-12-07T00:00:00\",\"2022-12-08T00:00:00\",\"2022-12-09T00:00:00\",\"2022-12-10T00:00:00\",\"2022-12-11T00:00:00\",\"2022-12-12T00:00:00\",\"2022-12-13T00:00:00\",\"2022-12-14T00:00:00\",\"2022-12-15T00:00:00\",\"2022-12-16T00:00:00\",\"2022-12-17T00:00:00\",\"2022-12-18T00:00:00\",\"2022-12-19T00:00:00\",\"2022-12-20T00:00:00\",\"2022-12-21T00:00:00\",\"2022-12-22T00:00:00\",\"2022-12-23T00:00:00\",\"2022-12-24T00:00:00\",\"2022-12-25T00:00:00\",\"2022-12-26T00:00:00\",\"2022-12-27T00:00:00\",\"2022-12-28T00:00:00\"],\"y\":[108,61,91,373,2501,2460,5899,6024,5670,9419,11340,141285,953545,2985905,5791681,5817471,6602520,5386705,3627354,2908708,2273256,2174755,1690454,1152901,1143740,1236457,1090219,1243047,1239402,1005565,997247,1022897,780822,753508,1282686,2098571,1707649,1527937,1622156,1416858,1122616,1310376,1553353,2197931,1702382,1502023,1350779,1142139,1009104,1146045,1211891,1395553,1132545,1111913,1219466,1029277,1048978,966972,744373,718987,758287,802690,736681,1652982,1516051,1183931,896243,906721,708710,559055,698446,634077,593108,501837,823458,856085,830077,783680,615325,600075,567560,574816,674263,1301388,870053,896242,450369,304334,293559,338822,350991,314807,283567,252795,243871,366289,302520,423946,264141,228834,173177,167647,193836,142954,143484,107287,134840],\"type\":\"scatter\",\"xaxis\":\"x\",\"yaxis\":\"y\"}],                        {\"template\":{\"data\":{\"histogram2dcontour\":[{\"type\":\"histogram2dcontour\",\"colorbar\":{\"outlinewidth\":0,\"ticks\":\"\"},\"colorscale\":[[0.0,\"#0d0887\"],[0.1111111111111111,\"#46039f\"],[0.2222222222222222,\"#7201a8\"],[0.3333333333333333,\"#9c179e\"],[0.4444444444444444,\"#bd3786\"],[0.5555555555555556,\"#d8576b\"],[0.6666666666666666,\"#ed7953\"],[0.7777777777777778,\"#fb9f3a\"],[0.8888888888888888,\"#fdca26\"],[1.0,\"#f0f921\"]]}],\"choropleth\":[{\"type\":\"choropleth\",\"colorbar\":{\"outlinewidth\":0,\"ticks\":\"\"}}],\"histogram2d\":[{\"type\":\"histogram2d\",\"colorbar\":{\"outlinewidth\":0,\"ticks\":\"\"},\"colorscale\":[[0.0,\"#0d0887\"],[0.1111111111111111,\"#46039f\"],[0.2222222222222222,\"#7201a8\"],[0.3333333333333333,\"#9c179e\"],[0.4444444444444444,\"#bd3786\"],[0.5555555555555556,\"#d8576b\"],[0.6666666666666666,\"#ed7953\"],[0.7777777777777778,\"#fb9f3a\"],[0.8888888888888888,\"#fdca26\"],[1.0,\"#f0f921\"]]}],\"heatmap\":[{\"type\":\"heatmap\",\"colorbar\":{\"outlinewidth\":0,\"ticks\":\"\"},\"colorscale\":[[0.0,\"#0d0887\"],[0.1111111111111111,\"#46039f\"],[0.2222222222222222,\"#7201a8\"],[0.3333333333333333,\"#9c179e\"],[0.4444444444444444,\"#bd3786\"],[0.5555555555555556,\"#d8576b\"],[0.6666666666666666,\"#ed7953\"],[0.7777777777777778,\"#fb9f3a\"],[0.8888888888888888,\"#fdca26\"],[1.0,\"#f0f921\"]]}],\"heatmapgl\":[{\"type\":\"heatmapgl\",\"colorbar\":{\"outlinewidth\":0,\"ticks\":\"\"},\"colorscale\":[[0.0,\"#0d0887\"],[0.1111111111111111,\"#46039f\"],[0.2222222222222222,\"#7201a8\"],[0.3333333333333333,\"#9c179e\"],[0.4444444444444444,\"#bd3786\"],[0.5555555555555556,\"#d8576b\"],[0.6666666666666666,\"#ed7953\"],[0.7777777777777778,\"#fb9f3a\"],[0.8888888888888888,\"#fdca26\"],[1.0,\"#f0f921\"]]}],\"contourcarpet\":[{\"type\":\"contourcarpet\",\"colorbar\":{\"outlinewidth\":0,\"ticks\":\"\"}}],\"contour\":[{\"type\":\"contour\",\"colorbar\":{\"outlinewidth\":0,\"ticks\":\"\"},\"colorscale\":[[0.0,\"#0d0887\"],[0.1111111111111111,\"#46039f\"],[0.2222222222222222,\"#7201a8\"],[0.3333333333333333,\"#9c179e\"],[0.4444444444444444,\"#bd3786\"],[0.5555555555555556,\"#d8576b\"],[0.6666666666666666,\"#ed7953\"],[0.7777777777777778,\"#fb9f3a\"],[0.8888888888888888,\"#fdca26\"],[1.0,\"#f0f921\"]]}],\"surface\":[{\"type\":\"surface\",\"colorbar\":{\"outlinewidth\":0,\"ticks\":\"\"},\"colorscale\":[[0.0,\"#0d0887\"],[0.1111111111111111,\"#46039f\"],[0.2222222222222222,\"#7201a8\"],[0.3333333333333333,\"#9c179e\"],[0.4444444444444444,\"#bd3786\"],[0.5555555555555556,\"#d8576b\"],[0.6666666666666666,\"#ed7953\"],[0.7777777777777778,\"#fb9f3a\"],[0.8888888888888888,\"#fdca26\"],[1.0,\"#f0f921\"]]}],\"mesh3d\":[{\"type\":\"mesh3d\",\"colorbar\":{\"outlinewidth\":0,\"ticks\":\"\"}}],\"scatter\":[{\"fillpattern\":{\"fillmode\":\"overlay\",\"size\":10,\"solidity\":0.2},\"type\":\"scatter\"}],\"parcoords\":[{\"type\":\"parcoords\",\"line\":{\"colorbar\":{\"outlinewidth\":0,\"ticks\":\"\"}}}],\"scatterpolargl\":[{\"type\":\"scatterpolargl\",\"marker\":{\"colorbar\":{\"outlinewidth\":0,\"ticks\":\"\"}}}],\"bar\":[{\"error_x\":{\"color\":\"#2a3f5f\"},\"error_y\":{\"color\":\"#2a3f5f\"},\"marker\":{\"line\":{\"color\":\"#E5ECF6\",\"width\":0.5},\"pattern\":{\"fillmode\":\"overlay\",\"size\":10,\"solidity\":0.2}},\"type\":\"bar\"}],\"scattergeo\":[{\"type\":\"scattergeo\",\"marker\":{\"colorbar\":{\"outlinewidth\":0,\"ticks\":\"\"}}}],\"scatterpolar\":[{\"type\":\"scatterpolar\",\"marker\":{\"colorbar\":{\"outlinewidth\":0,\"ticks\":\"\"}}}],\"histogram\":[{\"marker\":{\"pattern\":{\"fillmode\":\"overlay\",\"size\":10,\"solidity\":0.2}},\"type\":\"histogram\"}],\"scattergl\":[{\"type\":\"scattergl\",\"marker\":{\"colorbar\":{\"outlinewidth\":0,\"ticks\":\"\"}}}],\"scatter3d\":[{\"type\":\"scatter3d\",\"line\":{\"colorbar\":{\"outlinewidth\":0,\"ticks\":\"\"}},\"marker\":{\"colorbar\":{\"outlinewidth\":0,\"ticks\":\"\"}}}],\"scattermapbox\":[{\"type\":\"scattermapbox\",\"marker\":{\"colorbar\":{\"outlinewidth\":0,\"ticks\":\"\"}}}],\"scatterternary\":[{\"type\":\"scatterternary\",\"marker\":{\"colorbar\":{\"outlinewidth\":0,\"ticks\":\"\"}}}],\"scattercarpet\":[{\"type\":\"scattercarpet\",\"marker\":{\"colorbar\":{\"outlinewidth\":0,\"ticks\":\"\"}}}],\"carpet\":[{\"aaxis\":{\"endlinecolor\":\"#2a3f5f\",\"gridcolor\":\"white\",\"linecolor\":\"white\",\"minorgridcolor\":\"white\",\"startlinecolor\":\"#2a3f5f\"},\"baxis\":{\"endlinecolor\":\"#2a3f5f\",\"gridcolor\":\"white\",\"linecolor\":\"white\",\"minorgridcolor\":\"white\",\"startlinecolor\":\"#2a3f5f\"},\"type\":\"carpet\"}],\"table\":[{\"cells\":{\"fill\":{\"color\":\"#EBF0F8\"},\"line\":{\"color\":\"white\"}},\"header\":{\"fill\":{\"color\":\"#C8D4E3\"},\"line\":{\"color\":\"white\"}},\"type\":\"table\"}],\"barpolar\":[{\"marker\":{\"line\":{\"color\":\"#E5ECF6\",\"width\":0.5},\"pattern\":{\"fillmode\":\"overlay\",\"size\":10,\"solidity\":0.2}},\"type\":\"barpolar\"}],\"pie\":[{\"automargin\":true,\"type\":\"pie\"}]},\"layout\":{\"autotypenumbers\":\"strict\",\"colorway\":[\"#636efa\",\"#EF553B\",\"#00cc96\",\"#ab63fa\",\"#FFA15A\",\"#19d3f3\",\"#FF6692\",\"#B6E880\",\"#FF97FF\",\"#FECB52\"],\"font\":{\"color\":\"#2a3f5f\"},\"hovermode\":\"closest\",\"hoverlabel\":{\"align\":\"left\"},\"paper_bgcolor\":\"white\",\"plot_bgcolor\":\"#E5ECF6\",\"polar\":{\"bgcolor\":\"#E5ECF6\",\"angularaxis\":{\"gridcolor\":\"white\",\"linecolor\":\"white\",\"ticks\":\"\"},\"radialaxis\":{\"gridcolor\":\"white\",\"linecolor\":\"white\",\"ticks\":\"\"}},\"ternary\":{\"bgcolor\":\"#E5ECF6\",\"aaxis\":{\"gridcolor\":\"white\",\"linecolor\":\"white\",\"ticks\":\"\"},\"baxis\":{\"gridcolor\":\"white\",\"linecolor\":\"white\",\"ticks\":\"\"},\"caxis\":{\"gridcolor\":\"white\",\"linecolor\":\"white\",\"ticks\":\"\"}},\"coloraxis\":{\"colorbar\":{\"outlinewidth\":0,\"ticks\":\"\"}},\"colorscale\":{\"sequential\":[[0.0,\"#0d0887\"],[0.1111111111111111,\"#46039f\"],[0.2222222222222222,\"#7201a8\"],[0.3333333333333333,\"#9c179e\"],[0.4444444444444444,\"#bd3786\"],[0.5555555555555556,\"#d8576b\"],[0.6666666666666666,\"#ed7953\"],[0.7777777777777778,\"#fb9f3a\"],[0.8888888888888888,\"#fdca26\"],[1.0,\"#f0f921\"]],\"sequentialminus\":[[0.0,\"#0d0887\"],[0.1111111111111111,\"#46039f\"],[0.2222222222222222,\"#7201a8\"],[0.3333333333333333,\"#9c179e\"],[0.4444444444444444,\"#bd3786\"],[0.5555555555555556,\"#d8576b\"],[0.6666666666666666,\"#ed7953\"],[0.7777777777777778,\"#fb9f3a\"],[0.8888888888888888,\"#fdca26\"],[1.0,\"#f0f921\"]],\"diverging\":[[0,\"#8e0152\"],[0.1,\"#c51b7d\"],[0.2,\"#de77ae\"],[0.3,\"#f1b6da\"],[0.4,\"#fde0ef\"],[0.5,\"#f7f7f7\"],[0.6,\"#e6f5d0\"],[0.7,\"#b8e186\"],[0.8,\"#7fbc41\"],[0.9,\"#4d9221\"],[1,\"#276419\"]]},\"xaxis\":{\"gridcolor\":\"white\",\"linecolor\":\"white\",\"ticks\":\"\",\"title\":{\"standoff\":15},\"zerolinecolor\":\"white\",\"automargin\":true,\"zerolinewidth\":2},\"yaxis\":{\"gridcolor\":\"white\",\"linecolor\":\"white\",\"ticks\":\"\",\"title\":{\"standoff\":15},\"zerolinecolor\":\"white\",\"automargin\":true,\"zerolinewidth\":2},\"scene\":{\"xaxis\":{\"backgroundcolor\":\"#E5ECF6\",\"gridcolor\":\"white\",\"linecolor\":\"white\",\"showbackground\":true,\"ticks\":\"\",\"zerolinecolor\":\"white\",\"gridwidth\":2},\"yaxis\":{\"backgroundcolor\":\"#E5ECF6\",\"gridcolor\":\"white\",\"linecolor\":\"white\",\"showbackground\":true,\"ticks\":\"\",\"zerolinecolor\":\"white\",\"gridwidth\":2},\"zaxis\":{\"backgroundcolor\":\"#E5ECF6\",\"gridcolor\":\"white\",\"linecolor\":\"white\",\"showbackground\":true,\"ticks\":\"\",\"zerolinecolor\":\"white\",\"gridwidth\":2}},\"shapedefaults\":{\"line\":{\"color\":\"#2a3f5f\"}},\"annotationdefaults\":{\"arrowcolor\":\"#2a3f5f\",\"arrowhead\":0,\"arrowwidth\":1},\"geo\":{\"bgcolor\":\"white\",\"landcolor\":\"#E5ECF6\",\"subunitcolor\":\"white\",\"showland\":true,\"showlakes\":true,\"lakecolor\":\"white\"},\"title\":{\"x\":0.05},\"mapbox\":{\"style\":\"light\"}}},\"xaxis\":{\"anchor\":\"y\",\"domain\":[0.0,0.94],\"title\":{\"text\":\"Date\"}},\"yaxis\":{\"anchor\":\"x\",\"domain\":[0.0,1.0],\"title\":{\"text\":\"Number of Tweets\"}},\"yaxis2\":{\"anchor\":\"x\",\"overlaying\":\"y\",\"side\":\"right\"},\"font\":{\"family\":\"sans-serif\"},\"title\":{\"text\":\"Trend of hashtags in Iran Revolution 2022\",\"y\":0.9,\"x\":0.5,\"xanchor\":\"center\",\"yanchor\":\"top\"},\"legend\":{\"title\":{\"text\":\"Hashtags\"}},\"annotations\":[{\"arrowhead\":2,\"font\":{\"family\":\"B nazanin\",\"size\":14},\"showarrow\":true,\"text\":\"<b>: 23 \\u0645\\u0647\\u0631<br> \\u0622\\u062a\\u0634 \\u0633\\u0648\\u0632\\u06cc \\u0632\\u0646\\u062f\\u0627\\u0646 \\u0627\\u0648\\u06cc\\u0646 <b>\",\"x\":\"2022-10-15T00:00:00\",\"xshift\":0,\"y\":7400153.0,\"yshift\":0},{\"arrowhead\":2,\"font\":{\"family\":\"B nazanin\",\"size\":14},\"showarrow\":true,\"text\":\"<b>: 22 \\u0634\\u0647\\u0631\\u06cc\\u0648\\u0631<br> \\u062f\\u0633\\u062a\\u06af\\u06cc\\u0631\\u06cc \\u0645\\u0647\\u0633\\u0627 \\u0627\\u0645\\u06cc\\u0646\\u06cc <b>\",\"x\":\"2022-09-13T00:00:00\",\"xshift\":0,\"y\":100000.0,\"yshift\":0},{\"arrowhead\":2,\"font\":{\"family\":\"B nazanin\",\"size\":14},\"showarrow\":true,\"text\":\"<b>: 25 \\u0634\\u0647\\u0631\\u06cc\\u0648\\u0631<br> \\u06a9\\u0634\\u062a\\u0647 \\u0634\\u062f\\u0646 \\u0645\\u0647\\u0633\\u0627 \\u0627\\u0645\\u06cc\\u0646\\u06cc <b>\",\"x\":\"2022-09-16T00:00:00\",\"xshift\":10,\"y\":589179.0,\"yshift\":30},{\"arrowhead\":2,\"font\":{\"family\":\"B nazanin\",\"size\":14},\"showarrow\":true,\"text\":\"<b>: 1 \\u0645\\u0647\\u0631<br> \\u0622\\u063a\\u0627\\u0632 \\u062a\\u0638\\u0627\\u0647\\u0631\\u0627\\u062a \\u0633\\u0631\\u0627\\u0633\\u0631\\u06cc <br> \\u0627\\u0634\\u0646\\u0648\\u06cc\\u0647 <b>\",\"x\":\"2022-09-23T00:00:00\",\"xshift\":0,\"y\":20336106.0,\"yshift\":0},{\"arrowhead\":2,\"font\":{\"family\":\"B nazanin\",\"size\":14},\"showarrow\":true,\"text\":\"<b>: 7 \\u0645\\u0647\\u0631<br> \\u062c\\u0645\\u0639\\u0647 \\u062e\\u0648\\u0646\\u06cc\\u0646 <b>\",\"x\":\"2022-09-30T00:00:00\",\"xshift\":0,\"y\":14832453.0,\"yshift\":0},{\"arrowhead\":2,\"font\":{\"family\":\"B nazanin\",\"size\":12},\"showarrow\":true,\"text\":\"<b>: 10 \\u0645\\u0647\\u0631<br> \\u062d\\u0645\\u0644\\u0647 \\u0628\\u0647 \\u062f\\u0627\\u0646\\u0634\\u06af\\u0627\\u0647 \\u0634\\u0631\\u06cc\\u0641 <b>\",\"x\":\"2022-10-02T00:00:00\",\"xshift\":0,\"y\":11744394.0,\"yshift\":-5},{\"arrowhead\":2,\"font\":{\"family\":\"B nazanin\",\"size\":12},\"showarrow\":true,\"text\":\"<b>: 30 \\u0645\\u0647\\u0631<br> \\u062a\\u0638\\u0627\\u0647\\u0631\\u0627\\u062a \\u0628\\u0631\\u0644\\u06cc\\u0646 <b>\",\"x\":\"2022-10-22T00:00:00\",\"xshift\":0,\"y\":5255093.0,\"yshift\":0},{\"arrowhead\":2,\"font\":{\"family\":\"B nazanin\",\"size\":14},\"showarrow\":true,\"text\":\"<b>: 4 \\u0622\\u0628\\u0627\\u0646<br> \\u0686\\u0647\\u0644\\u0645 \\u0645\\u0647\\u0633\\u0627 \\u0627\\u0645\\u06cc\\u0646\\u06cc <br> \\u0634\\u0627\\u0647\\u0686\\u0631\\u0627\\u063a <b>\",\"x\":\"2022-10-26T00:00:00\",\"xshift\":0,\"y\":8205793.0,\"yshift\":10},{\"arrowhead\":2,\"font\":{\"family\":\"B nazanin\",\"size\":14},\"showarrow\":true,\"text\":\"<b>: 12 \\u0622\\u0628\\u0627\\u0646<br> \\u0686\\u0647\\u0644\\u0645 \\u062d\\u062f\\u06cc\\u062b \\u0646\\u062c\\u0641\\u06cc<b>\",\"x\":\"2022-11-03T00:00:00\",\"xshift\":0,\"y\":6117907.0,\"yshift\":10},{\"arrowhead\":2,\"font\":{\"family\":\"B nazanin\",\"size\":14},\"showarrow\":true,\"text\":\"<b>: 24 \\u0622\\u0628\\u0627\\u0646<br> \\u0627\\u0639\\u062a\\u0635\\u0627\\u0628 24\\u064825\\u064826<b>\",\"x\":\"2022-11-15T00:00:00\",\"xshift\":0,\"y\":6001967.0,\"yshift\":10},{\"arrowhead\":2,\"font\":{\"family\":\"B nazanin\",\"size\":14},\"showarrow\":true,\"text\":\"<b>: 14 \\u0622\\u0630\\u0631<br> \\u0627\\u0639\\u062a\\u0635\\u0627\\u0628 14\\u064815\\u064816<b>\",\"x\":\"2022-12-05T00:00:00\",\"xshift\":0,\"y\":3103137.0,\"yshift\":12},{\"arrowhead\":2,\"font\":{\"family\":\"B nazanin\",\"size\":12},\"showarrow\":false,\"text\":\"<b>: 17 \\u0622\\u0630\\u0631<br> \\u0627\\u0639\\u062f\\u0627\\u0645 \\u0645\\u062d\\u0633\\u0646 \\u0634\\u06a9\\u0627\\u0631\\u06cc<b>\",\"x\":\"2022-12-08T00:00:00\",\"xshift\":0,\"y\":3226525.0,\"yshift\":0}]},                        {\"responsive\": true}                    ).then(function(){\n",
       "                            \n",
       "var gd = document.getElementById('5a9e0184-daed-4e5e-a140-722b32d5070f');\n",
       "var x = new MutationObserver(function (mutations, observer) {{\n",
       "        var display = window.getComputedStyle(gd).display;\n",
       "        if (!display || display === 'none') {{\n",
       "            console.log([gd, 'removed!']);\n",
       "            Plotly.purge(gd);\n",
       "            observer.disconnect();\n",
       "        }}\n",
       "}});\n",
       "\n",
       "// Listen for the removal of the full notebook cells\n",
       "var notebookContainer = gd.closest('#notebook-container');\n",
       "if (notebookContainer) {{\n",
       "    x.observe(notebookContainer, {childList: true});\n",
       "}}\n",
       "\n",
       "// Listen for the clearing of the current output cell\n",
       "var outputEl = gd.closest('.output');\n",
       "if (outputEl) {{\n",
       "    x.observe(outputEl, {childList: true});\n",
       "}}\n",
       "\n",
       "                        })                };                });            </script>        </div>"
      ]
     },
     "metadata": {},
     "output_type": "display_data"
    }
   ],
   "source": [
    "import plotly.graph_objects as go\n",
    "fig = make_subplots(specs=[[{\"secondary_y\": True}]])\n",
    "plotMarkerConstant=1e5\n",
    "fig.add_trace(\n",
    "    go.Scatter(x=df[\"Date\"], y=df[\"MahsaAmini\"]),\n",
    "    secondary_y=False\n",
    ")\n",
    "fig.add_trace(\n",
    "    go.Scatter(x = df[\"Date\"], y=df[\"Dollar_price\"]),\n",
    "    secondary_y=True\n",
    ")\n",
    "fig.add_trace(\n",
    "    go.Scatter(x = df[\"Date\"], y=df[\"Strikes\"]),\n",
    "    secondary_y=False\n",
    ")\n",
    "fig.update_layout(\n",
    "    font_family = \"sans-serif\",\n",
    "    title={\n",
    "        'text': \"Trend of hashtags in Iran Revolution 2022\",\n",
    "        'y':0.9,\n",
    "        'x':0.5,\n",
    "        'xanchor': 'center',\n",
    "        'yanchor': 'top'},\n",
    "\n",
    "    xaxis_title=\"Date\",\n",
    "    yaxis_title=\"Number of Tweets\",\n",
    "    legend_title=\"Hashtags\")\n",
    "\n",
    "# fig.add_annotation(x=pd.to_datetime(\"2022-10-15\"), y=df[\"MahsaAmini\"].loc[df[\"Date\"] == pd.to_datetime(\"20221015\")].values[0]+plotMarkerConstant,\n",
    "#     text=,\n",
    "#     showarrow=True,\n",
    "#     font = {\n",
    "        \n",
    "#         'size' : 14\n",
    "#     },\n",
    "#     arrowhead=2)\n",
    "annotate(fig,df,\"2022-10-15\",\"<b>: 23 مهر<br> آتش سوزی زندان اوین <b>\")\n",
    "annotate(fig,df,\"2022-09-13\",\"<b>: 22 شهریور<br> دستگیری مهسا امینی <b>\")\n",
    "annotate(fig,df,\"2022-09-16\",\"<b>: 25 شهریور<br> کشته شدن مهسا امینی <b>\",yshift=30,xshift=10)\n",
    "annotate(fig,df,\"2022-09-23\",\"<b>: 1 مهر<br> آغاز تظاهرات سراسری <br> اشنویه <b>\")\n",
    "annotate(fig,df,\"2022-09-30\",\"<b>: 7 مهر<br> جمعه خونین <b>\")\n",
    "annotate(fig,df,\"2022-10-02\",\"<b>: 10 مهر<br> حمله به دانشگاه شریف <b>\",yshift=-5,xshift=0,fontsize=12)\n",
    "annotate(fig,df,\"2022-10-22\",\"<b>: 30 مهر<br> تظاهرات برلین <b>\", fontsize=12)\n",
    "annotate(fig,df,\"2022-10-26\",\"<b>: 4 آبان<br> چهلم مهسا امینی <br> شاهچراغ <b>\",yshift=10)\n",
    "annotate(fig,df,\"2022-11-03\",\"<b>: 12 آبان<br> چهلم حدیث نجفی<b>\",yshift=10)\n",
    "annotate(fig,df,\"2022-11-15\",\"<b>: 24 آبان<br> اعتصاب 24و25و26<b>\",yshift=10)\n",
    "annotate(fig,df,\"2022-12-05\",\"<b>: 14 آذر<br> اعتصاب 14و15و16<b>\",yshift=12)\n",
    "annotate(fig,df,\"2022-12-08\",\"<b>: 17 آذر<br> اعدام محسن شکاری<b>\",arrow=False,yshift=0,fontsize=12)\n",
    "\n",
    "# # fig.add_shape()\n",
    "# fig.add_annotation(yref='paper',x=pd.to_datetime(\"20221230\"), y=1.06, text=\"aaaa\")\n",
    "\n",
    "fig.show()\n",
    "\n"
   ]
  },
  {
   "cell_type": "markdown",
   "metadata": {},
   "source": [
    "## Exporting Dataset in JSON"
   ]
  },
  {
   "cell_type": "code",
   "execution_count": 25,
   "metadata": {},
   "outputs": [],
   "source": [
    "df.to_csv(r'IranProtest.csv', index=False)"
   ]
  },
  {
   "attachments": {},
   "cell_type": "markdown",
   "metadata": {},
   "source": [
    "# Clusters"
   ]
  },
  {
   "attachments": {},
   "cell_type": "markdown",
   "metadata": {},
   "source": [
    "## User finding"
   ]
  },
  {
   "cell_type": "code",
   "execution_count": 145,
   "metadata": {},
   "outputs": [
    {
     "data": {
      "text/plain": [
       "['__module__',\n",
       " '__doc__',\n",
       " '__slots__',\n",
       " '__init__',\n",
       " '__len__',\n",
       " '__repr__',\n",
       " '__str__',\n",
       " 'attachments',\n",
       " 'author_id',\n",
       " 'context_annotations',\n",
       " 'conversation_id',\n",
       " 'created_at',\n",
       " 'data',\n",
       " 'edit_controls',\n",
       " 'edit_history_tweet_ids',\n",
       " 'entities',\n",
       " 'geo',\n",
       " 'id',\n",
       " 'in_reply_to_user_id',\n",
       " 'lang',\n",
       " 'non_public_metrics',\n",
       " 'organic_metrics',\n",
       " 'possibly_sensitive',\n",
       " 'promoted_metrics',\n",
       " 'public_metrics',\n",
       " 'referenced_tweets',\n",
       " 'reply_settings',\n",
       " 'source',\n",
       " 'text',\n",
       " 'withheld',\n",
       " '__abstractmethods__',\n",
       " '_abc_impl',\n",
       " '__hash__',\n",
       " '__eq__',\n",
       " '__getattribute__',\n",
       " '__setattr__',\n",
       " '__delattr__',\n",
       " '__lt__',\n",
       " '__le__',\n",
       " '__ne__',\n",
       " '__gt__',\n",
       " '__ge__',\n",
       " '__new__',\n",
       " '__reduce_ex__',\n",
       " '__reduce__',\n",
       " '__subclasshook__',\n",
       " '__init_subclass__',\n",
       " '__format__',\n",
       " '__sizeof__',\n",
       " '__dir__',\n",
       " '__class__',\n",
       " '__contains__',\n",
       " '__getattr__',\n",
       " '__getitem__',\n",
       " '__iter__',\n",
       " 'get',\n",
       " 'keys',\n",
       " 'items',\n",
       " 'values',\n",
       " '__reversed__']"
      ]
     },
     "execution_count": 145,
     "metadata": {},
     "output_type": "execute_result"
    }
   ],
   "source": [
    "# query = \"from:Outfarsi\"\n",
    "outfarsi_tweets = client.search_all_tweets(query, max_results=10, tweet_fields=\"public_metrics\")\n",
    "df_out = pd.DataFrame(outfarsi_tweets.data)\n",
    "# df_out.head()\n",
    "type(outfarsi_tweets.data[0])\n",
    "# outfarsi_tweets.data[0].__dir__()"
   ]
  },
  {
   "cell_type": "code",
   "execution_count": 147,
   "metadata": {},
   "outputs": [
    {
     "data": {
      "text/plain": [
       "<Tweet id=1606727325453893632 text='https://t.co/Km0BHp7iqR'>"
      ]
     },
     "execution_count": 147,
     "metadata": {},
     "output_type": "execute_result"
    }
   ],
   "source": [
    "outfarsi_tweets.data[0]"
   ]
  },
  {
   "cell_type": "code",
   "execution_count": 156,
   "metadata": {},
   "outputs": [
    {
     "data": {
      "text/plain": [
       "739522040726720513"
      ]
     },
     "execution_count": 156,
     "metadata": {},
     "output_type": "execute_result"
    }
   ],
   "source": [
    "# temp = client.get_retweeters(id = 1606727325453893632)\n",
    "temp.data[0].id\n",
    "# client.__dir__()"
   ]
  }
 ],
 "metadata": {
  "kernelspec": {
   "display_name": "Python 3.8.10 64-bit",
   "language": "python",
   "name": "python3"
  },
  "language_info": {
   "codemirror_mode": {
    "name": "ipython",
    "version": 3
   },
   "file_extension": ".py",
   "mimetype": "text/x-python",
   "name": "python",
   "nbconvert_exporter": "python",
   "pygments_lexer": "ipython3",
   "version": "3.8.10"
  },
  "orig_nbformat": 4,
  "vscode": {
   "interpreter": {
    "hash": "916dbcbb3f70747c44a77c7bcd40155683ae19c65e1c03b4aa3499c5328201f1"
   }
  }
 },
 "nbformat": 4,
 "nbformat_minor": 2
}
